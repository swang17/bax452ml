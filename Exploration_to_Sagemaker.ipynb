{
 "cells": [
  {
   "cell_type": "markdown",
   "metadata": {},
   "source": [
    "__This notebook is an initial attempt to do a deep learning model using AWS Sagemaker.__\n",
    "\n",
    "__This notebook follows the sample notebook in AWS Sagemaker.__"
   ]
  },
  {
   "cell_type": "markdown",
   "metadata": {},
   "source": [
    "## Prequisites and Preprocessing\n",
    "\n",
    "### Permissions and environment variables\n",
    "\n",
    "Here we set up the linkage and authentication to AWS services. There are two parts to this:\n",
    "\n",
    "1. The role(s) used to give learning and hosting access to your data. Here we extract the role you created earlier for accessing your notebook.  See the documentation if you want to specify  a different role\n",
    "1. The S3 bucket name and locations that you want to use for training and model data."
   ]
  },
  {
   "cell_type": "code",
   "execution_count": 1,
   "metadata": {
    "collapsed": true
   },
   "outputs": [],
   "source": [
    "from sagemaker import get_execution_role\n",
    "\n",
    "role = get_execution_role()\n",
    "bucket='BAX452-HW8'"
   ]
  },
  {
   "cell_type": "markdown",
   "metadata": {},
   "source": [
    "### Data ingestion\n",
    "\n",
    "Next, we read the dataset from the existing repository into memory, for preprocessing prior to training.  In this case we'll use the MNIST dataset, which contains 70K 28 x 28 pixel images of handwritten digits.  For more details, please see [here](http://yann.lecun.com/exdb/mnist/).\n",
    "\n",
    "This processing could be done *in situ* by Amazon Athena, Apache Spark in Amazon EMR, Amazon Redshift, etc., assuming the dataset is present in the appropriate location. Then, the next step would be to transfer the data to S3 for use in training. For small datasets, such as this one, reading into memory isn't onerous, though it would be for larger datasets."
   ]
  },
  {
   "cell_type": "code",
   "execution_count": 2,
   "metadata": {},
   "outputs": [
    {
     "name": "stdout",
     "output_type": "stream",
     "text": [
      "CPU times: user 868 ms, sys: 332 ms, total: 1.2 s\n",
      "Wall time: 1.74 s\n"
     ]
    }
   ],
   "source": [
    "%%time\n",
    "import pickle, gzip, numpy, urllib.request, json\n",
    "\n",
    "# Load the dataset\n",
    "urllib.request.urlretrieve(\"http://deeplearning.net/data/mnist/mnist.pkl.gz\", \"mnist.pkl.gz\")\n",
    "with gzip.open('mnist.pkl.gz', 'rb') as f:\n",
    "    train_set, valid_set, test_set = pickle.load(f, encoding='latin1')"
   ]
  },
  {
   "cell_type": "markdown",
   "metadata": {},
   "source": [
    "### Data inspection\n",
    "\n",
    "Once the dataset is imported, it's typical as part of the machine learning process to inspect the data, understand the distributions, and determine what type(s) of preprocessing might be needed. You can perform those tasks right here in the notebook. As an example, let's go ahead and look at one of the digits that is part of the dataset."
   ]
  },
  {
   "cell_type": "code",
   "execution_count": 3,
   "metadata": {},
   "outputs": [
    {
     "data": {
      "image/png": "[encoded data removed]",
      "text/plain": [
       "<matplotlib.figure.Figure at 0x7f452eb28d68>"
      ]
     },
     "metadata": {},
     "output_type": "display_data"
    }
   ],
   "source": [
    "%matplotlib inline\n",
    "import matplotlib.pyplot as plt\n",
    "plt.rcParams[\"figure.figsize\"] = (2,10)\n",
    "\n",
    "\n",
    "def show_digit(img, caption='', subplot=None):\n",
    "    if subplot==None:\n",
    "        _,(subplot)=plt.subplots(1,1)\n",
    "    imgr=img.reshape((28,28))\n",
    "    subplot.axis('off')\n",
    "    subplot.imshow(imgr, cmap='gray')\n",
    "    plt.title(caption)\n",
    "\n",
    "show_digit(train_set[0][30], 'This is a {}'.format(train_set[1][30]))"
   ]
  },
  {
   "cell_type": "markdown",
   "metadata": {},
   "source": [
    "## Training the K-Means model\n",
    "\n",
    "Once we have the data preprocessed and available in the correct format for training, the next step is to actually train the model using the data. Since this data is relatively small, it isn't meant to show off the performance of the k-means training algorithm.  But Amazon SageMaker's k-means has been tested on, and scales well with, multi-terabyte datasets.\n",
    "\n",
    "After setting training parameters, we kick off training, and poll for status until training is completed, which in this example, takes between 7 and 11 minutes."
   ]
  },
  {
   "cell_type": "code",
   "execution_count": 4,
   "metadata": {},
   "outputs": [
    {
     "name": "stdout",
     "output_type": "stream",
     "text": [
      "training data will be uploaded to: s3://sagemaker-mlhw8/input\n",
      "training artifacts will be uploaded to: s3://sagemaker-mlhw8/output\n"
     ]
    },
    {
     "name": "stderr",
     "output_type": "stream",
     "text": [
      "INFO:sagemaker:Created S3 bucket: sagemaker-us-east-1-839136978653\n"
     ]
    }
   ],
   "source": [
    "from sagemaker import KMeans\n",
    "\n",
    "data_location = 's3://sagemaker-mlhw8/input'.format(bucket)\n",
    "output_location = 's3://sagemaker-mlhw8/output'.format(bucket)\n",
    "\n",
    "print('training data will be uploaded to: {}'.format(data_location))\n",
    "print('training artifacts will be uploaded to: {}'.format(output_location))\n",
    "\n",
    "kmeans = KMeans(role=role,\n",
    "                train_instance_count=2,\n",
    "                train_instance_type='ml.c4.8xlarge',\n",
    "                output_path=output_location,\n",
    "                k=10,\n",
    "                data_location=data_location)"
   ]
  },
  {
   "cell_type": "code",
   "execution_count": 5,
   "metadata": {},
   "outputs": [
    {
     "name": "stderr",
     "output_type": "stream",
     "text": [
      "INFO:sagemaker:Creating training-job with name: kmeans-2018-03-10-04-15-00-153\n"
     ]
    },
    {
     "name": "stdout",
     "output_type": "stream",
     "text": [
      ".....................................................................\n",
      "\u001b[31mDocker entrypoint called with argument(s): train\u001b[0m\n",
      "\u001b[31m[03/10/2018 04:20:40 INFO 140014036404032] Reading default configuration from /opt/amazon/lib/python2.7/site-packages/algorithm/default-input.json: {u'_num_gpus': u'auto', u'local_lloyd_num_trials': u'auto', u'_log_level': u'info', u'_kvstore': u'auto', u'local_lloyd_init_method': u'kmeans++', u'force_dense': u'true', u'epochs': u'1', u'init_method': u'random', u'local_lloyd_tol': u'0.0001', u'local_lloyd_max_iter': u'300', u'_disable_wait_to_read': u'false', u'extra_center_factor': u'auto', u'eval_metrics': u'[\"msd\"]', u'_num_kv_servers': u'1', u'mini_batch_size': u'5000', u'half_life_time_size': u'0', u'_num_slices': u'1'}\u001b[0m\n",
      "\u001b[31m[03/10/2018 04:20:40 INFO 140014036404032] Reading provided configuration from /opt/ml/input/config/hyperparameters.json: {u'feature_dim': u'784', u'mini_batch_size': u'500', u'k': u'10', u'force_dense': u'True'}\u001b[0m\n",
      "\u001b[31m[03/10/2018 04:20:40 INFO 140014036404032] Final configuration: {u'k': u'10', u'_num_gpus': u'auto', u'local_lloyd_num_trials': u'auto', u'_log_level': u'info', u'_kvstore': u'auto', u'local_lloyd_init_method': u'kmeans++', u'force_dense': u'True', u'epochs': u'1', u'init_method': u'random', u'feature_dim': u'784', u'local_lloyd_tol': u'0.0001', u'local_lloyd_max_iter': u'300', u'_disable_wait_to_read': u'false', u'extra_center_factor': u'auto', u'eval_metrics': u'[\"msd\"]', u'_num_kv_servers': u'1', u'mini_batch_size': u'500', u'half_life_time_size': u'0', u'_num_slices': u'1'}\u001b[0m\n",
      "\u001b[31m[03/10/2018 04:20:40 WARNING 140014036404032] Loggers have already been setup.\u001b[0m\n",
      "\u001b[31m[03/10/2018 04:20:41 INFO 140014036404032] Launching parameter server for role scheduler\u001b[0m\n",
      "\u001b[31m[03/10/2018 04:20:41 INFO 140014036404032] {'PROTOCOL_BUFFERS_PYTHON_IMPLEMENTATION_VERSION': '2', 'PATH': '/opt/amazon/bin:/usr/local/nvidia/bin:/usr/local/sbin:/usr/local/bin:/usr/sbin:/usr/bin:/sbin:/bin:/opt/amazon/bin:/opt/amazon/bin', 'SAGEMAKER_HTTP_PORT': '8080', 'HOME': '/root', 'PYTHONUNBUFFERED': 'TRUE', 'CANONICAL_ENVROOT': '/opt/amazon', 'LD_LIBRARY_PATH': '/usr/local/nvidia/lib64::/opt/amazon/lib', 'MXNET_KVSTORE_BIGARRAY_BOUND': '400000000', 'LANG': 'en_US.utf8', 'DMLC_INTERFACE': 'ethwe', 'SHLVL': '1', 'AWS_REGION': 'us-east-1', 'NVIDIA_VISIBLE_DEVICES': 'all', 'PROTOCOL_BUFFERS_PYTHON_IMPLEMENTATION': 'cpp', 'ENVROOT': '/opt/amazon', 'SAGEMAKER_DATA_PATH': '/opt/ml', 'NVIDIA_DRIVER_CAPABILITIES': 'compute,utility', 'NVIDIA_REQUIRE_CUDA': 'cuda>=9.0', 'OMP_NUM_THREADS': '18', 'HOSTNAME': 'aws', 'AWS_CONTAINER_CREDENTIALS_RELATIVE_URI': '/v2/credentials/b1ff54bc-3770-4741-a183-85920ed50eae', 'PWD': '/'}\u001b[0m\n",
      "\u001b[31m[03/10/2018 04:20:41 INFO 140014036404032] envs={'PROTOCOL_BUFFERS_PYTHON_IMPLEMENTATION_VERSION': '2', 'DMLC_NUM_WORKER': '2', 'DMLC_PS_ROOT_PORT': '9000', 'PATH': '/opt/amazon/bin:/usr/local/nvidia/bin:/usr/local/sbin:/usr/local/bin:/usr/sbin:/usr/bin:/sbin:/bin:/opt/amazon/bin:/opt/amazon/bin', 'SAGEMAKER_HTTP_PORT': '8080', 'HOME': '/root', 'PYTHONUNBUFFERED': 'TRUE', 'CANONICAL_ENVROOT': '/opt/amazon', 'LD_LIBRARY_PATH': '/usr/local/nvidia/lib64::/opt/amazon/lib', 'MXNET_KVSTORE_BIGARRAY_BOUND': '400000000', 'LANG': 'en_US.utf8', 'DMLC_INTERFACE': 'ethwe', 'SHLVL': '1', 'DMLC_PS_ROOT_URI': '10.40.0.3', 'AWS_REGION': 'us-east-1', 'NVIDIA_VISIBLE_DEVICES': 'all', 'PROTOCOL_BUFFERS_PYTHON_IMPLEMENTATION': 'cpp', 'ENVROOT': '/opt/amazon', 'SAGEMAKER_DATA_PATH': '/opt/ml', 'NVIDIA_DRIVER_CAPABILITIES': 'compute,utility', 'NVIDIA_REQUIRE_CUDA': 'cuda>=9.0', 'OMP_NUM_THREADS': '18', 'HOSTNAME': 'aws', 'AWS_CONTAINER_CREDENTIALS_RELATIVE_URI': '/v2/credentials/b1ff54bc-3770-4741-a183-85920ed50eae', 'DMLC_ROLE': 'scheduler', 'PWD': '/', 'DMLC_NUM_SERVER': '1'}\u001b[0m\n",
      "\u001b[31m[03/10/2018 04:20:41 INFO 140014036404032] Launching parameter server for role server\u001b[0m\n",
      "\u001b[31m[03/10/2018 04:20:41 INFO 140014036404032] {'PROTOCOL_BUFFERS_PYTHON_IMPLEMENTATION_VERSION': '2', 'PATH': '/opt/amazon/bin:/usr/local/nvidia/bin:/usr/local/sbin:/usr/local/bin:/usr/sbin:/usr/bin:/sbin:/bin:/opt/amazon/bin:/opt/amazon/bin', 'SAGEMAKER_HTTP_PORT': '8080', 'HOME': '/root', 'PYTHONUNBUFFERED': 'TRUE', 'CANONICAL_ENVROOT': '/opt/amazon', 'LD_LIBRARY_PATH': '/usr/local/nvidia/lib64::/opt/amazon/lib', 'MXNET_KVSTORE_BIGARRAY_BOUND': '400000000', 'LANG': 'en_US.utf8', 'DMLC_INTERFACE': 'ethwe', 'SHLVL': '1', 'AWS_REGION': 'us-east-1', 'NVIDIA_VISIBLE_DEVICES': 'all', 'PROTOCOL_BUFFERS_PYTHON_IMPLEMENTATION': 'cpp', 'ENVROOT': '/opt/amazon', 'SAGEMAKER_DATA_PATH': '/opt/ml', 'NVIDIA_DRIVER_CAPABILITIES': 'compute,utility', 'NVIDIA_REQUIRE_CUDA': 'cuda>=9.0', 'OMP_NUM_THREADS': '18', 'HOSTNAME': 'aws', 'AWS_CONTAINER_CREDENTIALS_RELATIVE_URI': '/v2/credentials/b1ff54bc-3770-4741-a183-85920ed50eae', 'PWD': '/'}\u001b[0m\n",
      "\u001b[31m[03/10/2018 04:20:41 INFO 140014036404032] envs={'PROTOCOL_BUFFERS_PYTHON_IMPLEMENTATION_VERSION': '2', 'DMLC_NUM_WORKER': '2', 'DMLC_PS_ROOT_PORT': '9000', 'PATH': '/opt/amazon/bin:/usr/local/nvidia/bin:/usr/local/sbin:/usr/local/bin:/usr/sbin:/usr/bin:/sbin:/bin:/opt/amazon/bin:/opt/amazon/bin', 'SAGEMAKER_HTTP_PORT': '8080', 'HOME': '/root', 'PYTHONUNBUFFERED': 'TRUE', 'CANONICAL_ENVROOT': '/opt/amazon', 'LD_LIBRARY_PATH': '/usr/local/nvidia/lib64::/opt/amazon/lib', 'MXNET_KVSTORE_BIGARRAY_BOUND': '400000000', 'LANG': 'en_US.utf8', 'DMLC_INTERFACE': 'ethwe', 'SHLVL': '1', 'DMLC_PS_ROOT_URI': '10.40.0.3', 'AWS_REGION': 'us-east-1', 'NVIDIA_VISIBLE_DEVICES': 'all', 'PROTOCOL_BUFFERS_PYTHON_IMPLEMENTATION': 'cpp', 'ENVROOT': '/opt/amazon', 'SAGEMAKER_DATA_PATH': '/opt/ml', 'NVIDIA_DRIVER_CAPABILITIES': 'compute,utility', 'NVIDIA_REQUIRE_CUDA': 'cuda>=9.0', 'OMP_NUM_THREADS': '18', 'HOSTNAME': 'aws', 'AWS_CONTAINER_CREDENTIALS_RELATIVE_URI': '/v2/credentials/b1ff54bc-3770-4741-a183-85920ed50eae', 'DMLC_ROLE': 'server', 'PWD': '/', 'DMLC_NUM_SERVER': '1'}\u001b[0m\n",
      "\u001b[31m[03/10/2018 04:20:41 INFO 140014036404032] Environment: {'PROTOCOL_BUFFERS_PYTHON_IMPLEMENTATION_VERSION': '2', 'DMLC_PS_ROOT_PORT': '9000', 'DMLC_NUM_WORKER': '2', 'SAGEMAKER_HTTP_PORT': '8080', 'HOME': '/root', 'PYTHONUNBUFFERED': 'TRUE', 'CANONICAL_ENVROOT': '/opt/amazon', 'LD_LIBRARY_PATH': '/usr/local/nvidia/lib64::/opt/amazon/lib', 'MXNET_KVSTORE_BIGARRAY_BOUND': '400000000', 'LANG': 'en_US.utf8', 'DMLC_INTERFACE': 'ethwe', 'SHLVL': '1', 'DMLC_PS_ROOT_URI': '10.40.0.3', 'AWS_REGION': 'us-east-1', 'NVIDIA_VISIBLE_DEVICES': 'all', 'PATH': '/opt/amazon/bin:/usr/local/nvidia/bin:/usr/local/sbin:/usr/local/bin:/usr/sbin:/usr/bin:/sbin:/bin:/opt/amazon/bin:/opt/amazon/bin', 'PROTOCOL_BUFFERS_PYTHON_IMPLEMENTATION': 'cpp', 'ENVROOT': '/opt/amazon', 'SAGEMAKER_DATA_PATH': '/opt/ml', 'NVIDIA_DRIVER_CAPABILITIES': 'compute,utility', 'NVIDIA_REQUIRE_CUDA': 'cuda>=9.0', 'OMP_NUM_THREADS': '18', 'HOSTNAME': 'aws', 'AWS_CONTAINER_CREDENTIALS_RELATIVE_URI': '/v2/credentials/b1ff54bc-3770-4741-a183-85920ed50eae', 'DMLC_ROLE': 'worker', 'PWD': '/', 'DMLC_NUM_SERVER': '1'}\u001b[0m\n",
      "\u001b[31m[03/10/2018 04:20:41 INFO 140014036404032] Using default worker.\u001b[0m\n",
      "\u001b[31m[03/10/2018 04:20:41 INFO 140014036404032] Loaded iterator creator application/x-recordio-protobuf for content type ('application/x-recordio-protobuf', '1.0')\u001b[0m\n",
      "\u001b[31m[03/10/2018 04:20:41 INFO 140014036404032] Create Store: dist_async\u001b[0m\n",
      "\u001b[32mDocker entrypoint called with argument(s): train\u001b[0m\n",
      "\u001b[32m[03/10/2018 04:20:46 INFO 139952628012864] Reading default configuration from /opt/amazon/lib/python2.7/site-packages/algorithm/default-input.json: {u'_num_gpus': u'auto', u'local_lloyd_num_trials': u'auto', u'_log_level': u'info', u'_kvstore': u'auto', u'local_lloyd_init_method': u'kmeans++', u'force_dense': u'true', u'epochs': u'1', u'init_method': u'random', u'local_lloyd_tol': u'0.0001', u'local_lloyd_max_iter': u'300', u'_disable_wait_to_read': u'false', u'extra_center_factor': u'auto', u'eval_metrics': u'[\"msd\"]', u'_num_kv_servers': u'1', u'mini_batch_size': u'5000', u'half_life_time_size': u'0', u'_num_slices': u'1'}\u001b[0m\n",
      "\u001b[32m[03/10/2018 04:20:46 INFO 139952628012864] Reading provided configuration from /opt/ml/input/config/hyperparameters.json: {u'feature_dim': u'784', u'mini_batch_size': u'500', u'k': u'10', u'force_dense': u'True'}\u001b[0m\n",
      "\u001b[32m[03/10/2018 04:20:46 INFO 139952628012864] Final configuration: {u'k': u'10', u'_num_gpus': u'auto', u'local_lloyd_num_trials': u'auto', u'_log_level': u'info', u'_kvstore': u'auto', u'local_lloyd_init_method': u'kmeans++', u'force_dense': u'True', u'epochs': u'1', u'init_method': u'random', u'feature_dim': u'784', u'local_lloyd_tol': u'0.0001', u'local_lloyd_max_iter': u'300', u'_disable_wait_to_read': u'false', u'extra_center_factor': u'auto', u'eval_metrics': u'[\"msd\"]', u'_num_kv_servers': u'1', u'mini_batch_size': u'500', u'half_life_time_size': u'0', u'_num_slices': u'1'}\u001b[0m\n",
      "\u001b[32m[03/10/2018 04:20:46 WARNING 139952628012864] Loggers have already been setup.\u001b[0m\n",
      "\u001b[32m[03/10/2018 04:20:46 INFO 139952628012864] Environment: {'PROTOCOL_BUFFERS_PYTHON_IMPLEMENTATION_VERSION': '2', 'DMLC_PS_ROOT_PORT': '9000', 'DMLC_NUM_WORKER': '2', 'SAGEMAKER_HTTP_PORT': '8080', 'HOME': '/root', 'PYTHONUNBUFFERED': 'TRUE', 'CANONICAL_ENVROOT': '/opt/amazon', 'LD_LIBRARY_PATH': '/usr/local/nvidia/lib64::/opt/amazon/lib', 'MXNET_KVSTORE_BIGARRAY_BOUND': '400000000', 'LANG': 'en_US.utf8', 'DMLC_INTERFACE': 'ethwe', 'SHLVL': '1', 'DMLC_PS_ROOT_URI': '10.40.0.3', 'AWS_REGION': 'us-east-1', 'NVIDIA_VISIBLE_DEVICES': 'all', 'PATH': '/opt/amazon/bin:/usr/local/nvidia/bin:/usr/local/sbin:/usr/local/bin:/usr/sbin:/usr/bin:/sbin:/bin:/opt/amazon/bin:/opt/amazon/bin', 'PROTOCOL_BUFFERS_PYTHON_IMPLEMENTATION': 'cpp', 'ENVROOT': '/opt/amazon', 'SAGEMAKER_DATA_PATH': '/opt/ml', 'NVIDIA_DRIVER_CAPABILITIES': 'compute,utility', 'NVIDIA_REQUIRE_CUDA': 'cuda>=9.0', 'OMP_NUM_THREADS': '18', 'HOSTNAME': 'aws', 'AWS_CONTAINER_CREDENTIALS_RELATIVE_URI': '/v2/credentials/ec48f666-c00a-44b5-805d-c6e396699ae2', 'DMLC_ROLE': 'worker', 'PWD': '/', 'DMLC_NUM_SERVER': '1'}\u001b[0m\n",
      "\u001b[32m[03/10/2018 04:20:46 INFO 139952628012864] Using default worker.\u001b[0m\n",
      "\u001b[32m[03/10/2018 04:20:46 INFO 139952628012864] Loaded iterator creator application/x-recordio-protobuf for content type ('application/x-recordio-protobuf', '1.0')\u001b[0m\n",
      "\u001b[32m[03/10/2018 04:20:46 INFO 139952628012864] Create Store: dist_async\u001b[0m\n",
      "\u001b[32m[03/10/2018 04:20:46 INFO 139952628012864] nvidia-smi took: 0.0251619815826 secs to identify 0 gpus\u001b[0m\n",
      "\u001b[32m[03/10/2018 04:20:46 INFO 139952628012864] Number of GPUs being used: 0\u001b[0m\n",
      "\u001b[32m[03/10/2018 04:20:46 INFO 139952628012864] Setting up with params: {u'k': u'10', u'_num_gpus': u'auto', u'local_lloyd_num_trials': u'auto', u'_log_level': u'info', u'_kvstore': u'auto', u'local_lloyd_init_method': u'kmeans++', u'force_dense': u'True', u'epochs': u'1', u'init_method': u'random', u'feature_dim': u'784', u'local_lloyd_tol': u'0.0001', u'local_lloyd_max_iter': u'300', u'_disable_wait_to_read': u'false', u'extra_center_factor': u'auto', u'eval_metrics': u'[\"msd\"]', u'_num_kv_servers': u'1', u'mini_batch_size': u'500', u'half_life_time_size': u'0', u'_num_slices': u'1'}\u001b[0m\n",
      "\u001b[32m/opt/amazon/lib/python2.7/site-packages/ai_algorithms_sdk/config/config_helper.py:170: DeprecationWarning: deprecated\n",
      "  warnings.warn(\"deprecated\", DeprecationWarning)\u001b[0m\n",
      "\u001b[32m/opt/amazon/lib/python2.7/site-packages/ai_algorithms_sdk/config/config_helper.py:120: DeprecationWarning: deprecated\n",
      "  warnings.warn(\"deprecated\", DeprecationWarning)\u001b[0m\n",
      "\u001b[32m[03/10/2018 04:20:46 INFO 139952628012864] Number of GPUs being used: 0\u001b[0m\n",
      "\u001b[32m[03/10/2018 04:20:46 INFO 139952628012864] number of center slices 1\u001b[0m\n",
      "\u001b[32m#metrics {\"Metrics\": {\"Max Batches Seen Between Resets\": {\"count\": 1, \"max\": 1, \"sum\": 1.0, \"min\": 1}, \"Number of Batches Since Last Reset\": {\"count\": 1, \"max\": 1, \"sum\": 1.0, \"min\": 1}, \"Number of Records Since Last Reset\": {\"count\": 1, \"max\": 500, \"sum\": 500.0, \"min\": 500}, \"Total Batches Seen\": {\"count\": 1, \"max\": 1, \"sum\": 1.0, \"min\": 1}, \"Total Records Seen\": {\"count\": 1, \"max\": 500, \"sum\": 500.0, \"min\": 500}, \"Max Records Seen Between Resets\": {\"count\": 1, \"max\": 500, \"sum\": 500.0, \"min\": 500}, \"Reset Count\": {\"count\": 1, \"max\": 0, \"sum\": 0.0, \"min\": 0}}, \"EndTime\": 1520655646.566196, \"Dimensions\": {\"Host\": \"algo-2\", \"Meta\": \"init_train_data_iter\", \"Operation\": \"training\", \"Algorithm\": \"AWS/KMeansWebscale\"}, \"StartTime\": 1520655646.566164}\n",
      "\u001b[0m\n",
      "\u001b[32m[03/10/2018 04:20:46 INFO 139952628012864] Iter 10: Short term msd 31.695466. Long term msd 33.537245\u001b[0m\n",
      "\u001b[32m[03/10/2018 04:20:46 INFO 139952628012864] Iter 20: Short term msd 29.162852. Long term msd 30.178104\u001b[0m\n",
      "\u001b[32m[03/10/2018 04:20:47 INFO 139952628012864] Iter 30: Short term msd 29.094357. Long term msd 29.518332\u001b[0m\n",
      "\u001b[32m[03/10/2018 04:20:47 INFO 139952628012864] Iter 40: Short term msd 28.748460. Long term msd 28.928421\u001b[0m\n",
      "\u001b[32m[03/10/2018 04:20:47 INFO 139952628012864] processed a total of 25000 examples\u001b[0m\n",
      "\u001b[32m#metrics {\"Metrics\": {\"Max Batches Seen Between Resets\": {\"count\": 1, \"max\": 50, \"sum\": 50.0, \"min\": 50}, \"Number of Batches Since Last Reset\": {\"count\": 1, \"max\": 50, \"sum\": 50.0, \"min\": 50}, \"Number of Records Since Last Reset\": {\"count\": 1, \"max\": 25000, \"sum\": 25000.0, \"min\": 25000}, \"Total Batches Seen\": {\"count\": 1, \"max\": 51, \"sum\": 51.0, \"min\": 51}, \"Total Records Seen\": {\"count\": 1, \"max\": 25500, \"sum\": 25500.0, \"min\": 25500}, \"Max Records Seen Between Resets\": {\"count\": 1, \"max\": 25000, \"sum\": 25000.0, \"min\": 25000}, \"Reset Count\": {\"count\": 1, \"max\": 1, \"sum\": 1.0, \"min\": 1}}, \"EndTime\": 1520655647.263548, \"Dimensions\": {\"Host\": \"algo-2\", \"Meta\": \"training_data_iter\", \"Operation\": \"training\", \"Algorithm\": \"AWS/KMeansWebscale\", \"epoch\": 0}, \"StartTime\": 1520655647.263501}\n",
      "\u001b[0m\n",
      "\u001b[32m[03/10/2018 04:20:47 INFO 139952628012864] shrinking 100 centers into 10\u001b[0m\n",
      "\u001b[31m[03/10/2018 04:20:46 INFO 140014036404032] nvidia-smi took: 0.0252108573914 secs to identify 0 gpus\u001b[0m\n",
      "\u001b[31m[03/10/2018 04:20:46 INFO 140014036404032] Number of GPUs being used: 0\u001b[0m\n",
      "\u001b[31m[03/10/2018 04:20:46 INFO 140014036404032] Setting up with params: {u'k': u'10', u'_num_gpus': u'auto', u'local_lloyd_num_trials': u'auto', u'_log_level': u'info', u'_kvstore': u'auto', u'local_lloyd_init_method': u'kmeans++', u'force_dense': u'True', u'epochs': u'1', u'init_method': u'random', u'feature_dim': u'784', u'local_lloyd_tol': u'0.0001', u'local_lloyd_max_iter': u'300', u'_disable_wait_to_read': u'false', u'extra_center_factor': u'auto', u'eval_metrics': u'[\"msd\"]', u'_num_kv_servers': u'1', u'mini_batch_size': u'500', u'half_life_time_size': u'0', u'_num_slices': u'1'}\u001b[0m\n",
      "\u001b[31m[03/10/2018 04:20:46 INFO 140014036404032] Number of GPUs being used: 0\u001b[0m\n",
      "\u001b[31m/opt/amazon/lib/python2.7/site-packages/ai_algorithms_sdk/config/config_helper.py:170: DeprecationWarning: deprecated\n",
      "  warnings.warn(\"deprecated\", DeprecationWarning)\u001b[0m\n",
      "\u001b[31m/opt/amazon/lib/python2.7/site-packages/ai_algorithms_sdk/config/config_helper.py:120: DeprecationWarning: deprecated\n",
      "  warnings.warn(\"deprecated\", DeprecationWarning)\u001b[0m\n",
      "\u001b[31m[03/10/2018 04:20:46 INFO 140014036404032] number of center slices 1\u001b[0m\n",
      "\u001b[31m#metrics {\"Metrics\": {\"Max Batches Seen Between Resets\": {\"count\": 1, \"max\": 1, \"sum\": 1.0, \"min\": 1}, \"Number of Batches Since Last Reset\": {\"count\": 1, \"max\": 1, \"sum\": 1.0, \"min\": 1}, \"Number of Records Since Last Reset\": {\"count\": 1, \"max\": 500, \"sum\": 500.0, \"min\": 500}, \"Total Batches Seen\": {\"count\": 1, \"max\": 1, \"sum\": 1.0, \"min\": 1}, \"Total Records Seen\": {\"count\": 1, \"max\": 500, \"sum\": 500.0, \"min\": 500}, \"Max Records Seen Between Resets\": {\"count\": 1, \"max\": 500, \"sum\": 500.0, \"min\": 500}, \"Reset Count\": {\"count\": 1, \"max\": 0, \"sum\": 0.0, \"min\": 0}}, \"EndTime\": 1520655646.545767, \"Dimensions\": {\"Host\": \"algo-1\", \"Meta\": \"init_train_data_iter\", \"Operation\": \"training\", \"Algorithm\": \"AWS/KMeansWebscale\"}, \"StartTime\": 1520655646.545733}\n",
      "\u001b[0m\n",
      "\u001b[31m[03/10/2018 04:20:46 INFO 140014036404032] Iter 10: Short term msd 30.799725. Long term msd 32.137034\u001b[0m\n",
      "\u001b[31m[03/10/2018 04:20:46 INFO 140014036404032] Iter 20: Short term msd 29.530894. Long term msd 30.000143\u001b[0m\n",
      "\u001b[31m[03/10/2018 04:20:47 INFO 140014036404032] Iter 30: Short term msd 29.476984. Long term msd 29.578655\u001b[0m\n",
      "\u001b[31m[03/10/2018 04:20:47 INFO 140014036404032] Iter 40: Short term msd 29.018431. Long term msd 29.136093\u001b[0m\n",
      "\u001b[31m[03/10/2018 04:20:47 INFO 140014036404032] processed a total of 25000 examples\u001b[0m\n",
      "\u001b[31m#metrics {\"Metrics\": {\"Max Batches Seen Between Resets\": {\"count\": 1, \"max\": 50, \"sum\": 50.0, \"min\": 50}, \"Number of Batches Since Last Reset\": {\"count\": 1, \"max\": 50, \"sum\": 50.0, \"min\": 50}, \"Number of Records Since Last Reset\": {\"count\": 1, \"max\": 25000, \"sum\": 25000.0, \"min\": 25000}, \"Total Batches Seen\": {\"count\": 1, \"max\": 51, \"sum\": 51.0, \"min\": 51}, \"Total Records Seen\": {\"count\": 1, \"max\": 25500, \"sum\": 25500.0, \"min\": 25500}, \"Max Records Seen Between Resets\": {\"count\": 1, \"max\": 25000, \"sum\": 25000.0, \"min\": 25000}, \"Reset Count\": {\"count\": 1, \"max\": 1, \"sum\": 1.0, \"min\": 1}}, \"EndTime\": 1520655647.378201, \"Dimensions\": {\"Host\": \"algo-1\", \"Meta\": \"training_data_iter\", \"Operation\": \"training\", \"Algorithm\": \"AWS/KMeansWebscale\", \"epoch\": 0}, \"StartTime\": 1520655647.378154}\n",
      "\u001b[0m\n",
      "\u001b[31m[03/10/2018 04:20:47 INFO 140014036404032] shrinking 100 centers into 10\u001b[0m\n",
      "\u001b[31m[03/10/2018 04:20:47 INFO 140014036404032] local kmeans attempt #0. Current mean square distance 11.822700\u001b[0m\n",
      "\u001b[31m[03/10/2018 04:20:47 INFO 140014036404032] local kmeans attempt #1. Current mean square distance 12.220979\u001b[0m\n",
      "\u001b[32m[03/10/2018 04:20:47 INFO 139952628012864] local kmeans attempt #0. Current mean square distance 12.011176\u001b[0m\n",
      "\u001b[32m[03/10/2018 04:20:47 INFO 139952628012864] local kmeans attempt #1. Current mean square distance 11.964862\u001b[0m\n",
      "\u001b[32m[03/10/2018 04:20:47 INFO 139952628012864] local kmeans attempt #2. Current mean square distance 11.957365\u001b[0m\n",
      "\u001b[32m[03/10/2018 04:20:47 INFO 139952628012864] local kmeans attempt #3. Current mean square distance 11.577719\u001b[0m\n",
      "\u001b[32m[03/10/2018 04:20:47 INFO 139952628012864] local kmeans attempt #4. Current mean square distance 11.532927\u001b[0m\n",
      "\u001b[32m[03/10/2018 04:20:47 INFO 139952628012864] local kmeans attempt #5. Current mean square distance 11.808147\u001b[0m\n",
      "\u001b[32m[03/10/2018 04:20:47 INFO 139952628012864] local kmeans attempt #6. Current mean square distance 11.357389\u001b[0m\n",
      "\u001b[32m[03/10/2018 04:20:47 INFO 139952628012864] local kmeans attempt #7. Current mean square distance 11.511451\u001b[0m\n",
      "\u001b[32m[03/10/2018 04:20:47 INFO 139952628012864] local kmeans attempt #8. Current mean square distance 11.645379\u001b[0m\n",
      "\u001b[32m[03/10/2018 04:20:47 INFO 139952628012864] local kmeans attempt #9. Current mean square distance 11.902776\u001b[0m\n",
      "\u001b[32m[03/10/2018 04:20:47 INFO 139952628012864] finished shrinking process. Mean Square Distance = 11\u001b[0m\n",
      "\u001b[32m[03/10/2018 04:20:47 INFO 139952628012864] compute all data-center distances: point norm took: 27.1726%, (0.188190 secs)\u001b[0m\n",
      "\u001b[32m[03/10/2018 04:20:47 INFO 139952628012864] batch data loading with context took: 25.9457%, (0.179693 secs)\u001b[0m\n",
      "\u001b[32m[03/10/2018 04:20:47 INFO 139952628012864] collect from kv store took: 17.5217%, (0.121351 secs)\u001b[0m\n",
      "\u001b[32m[03/10/2018 04:20:47 INFO 139952628012864] predict compute msd took: 7.0681%, (0.048952 secs)\u001b[0m\n",
      "\u001b[32m[03/10/2018 04:20:47 INFO 139952628012864] compute all data-center distances: center norm took: 5.8963%, (0.040836 secs)\u001b[0m\n",
      "\u001b[32m[03/10/2018 04:20:47 INFO 139952628012864] compute all data-center distances: inner product took: 4.3491%, (0.030120 secs)\u001b[0m\n",
      "\u001b[32m[03/10/2018 04:20:47 INFO 139952628012864] gradient: cluster center took: 4.3251%, (0.029955 secs)\u001b[0m\n",
      "\u001b[32m[03/10/2018 04:20:47 INFO 139952628012864] gradient: cluster size  took: 3.9108%, (0.027085 secs)\u001b[0m\n",
      "\u001b[32m[03/10/2018 04:20:47 INFO 139952628012864] update state and report convergance took: 1.4785%, (0.010239 secs)\u001b[0m\n",
      "\u001b[32m[03/10/2018 04:20:47 INFO 139952628012864] splitting centers key-value pair took: 1.1247%, (0.007789 secs)\u001b[0m\n",
      "\u001b[32m[03/10/2018 04:20:47 INFO 139952628012864] gradient: one_hot took: 1.0282%, (0.007121 secs)\u001b[0m\n",
      "\u001b[32m[03/10/2018 04:20:47 INFO 139952628012864] predict minus dist took: 0.1503%, (0.001041 secs)\u001b[0m\n",
      "\u001b[32m[03/10/2018 04:20:47 INFO 139952628012864] update set-up time took: 0.0289%, (0.000200 secs)\u001b[0m\n",
      "\u001b[32m[03/10/2018 04:20:47 INFO 139952628012864] TOTAL took: 0.692573547363\u001b[0m\n",
      "\u001b[32m[03/10/2018 04:20:47 INFO 139952628012864] Number of GPUs being used: 0\u001b[0m\n",
      "\u001b[32m[03/10/2018 04:20:47 INFO 139952628012864] No model is serialized on a non-master node\u001b[0m\n",
      "\u001b[32m#metrics {\"Metrics\": {\"finalize.time\": {\"count\": 1, \"max\": 318.1018829345703, \"sum\": 318.1018829345703, \"min\": 318.1018829345703}, \"initialize.time\": {\"count\": 1, \"max\": 19.96302604675293, \"sum\": 19.96302604675293, \"min\": 19.96302604675293}, \"model.serialize.time\": {\"count\": 1, \"max\": 0.2288818359375, \"sum\": 0.2288818359375, \"min\": 0.2288818359375}, \"update.time\": {\"count\": 1, \"max\": 696.9799995422363, \"sum\": 696.9799995422363, \"min\": 696.9799995422363}, \"epochs\": {\"count\": 1, \"max\": 1, \"sum\": 1.0, \"min\": 1}, \"state.serialize.time\": {\"count\": 1, \"max\": 0.43511390686035156, \"sum\": 0.43511390686035156, \"min\": 0.43511390686035156}, \"_shrink.time\": {\"count\": 1, \"max\": 314.9597644805908, \"sum\": 314.9597644805908, \"min\": 314.9597644805908}}, \"EndTime\": 1520655647.717969, \"Dimensions\": {\"Host\": \"algo-2\", \"Operation\": \"training\", \"Algorithm\": \"AWS/KMeansWebscale\"}, \"StartTime\": 1520655646.532953}\n",
      "\u001b[0m\n",
      "\u001b[32m[03/10/2018 04:20:47 INFO 139952628012864] Test data was not provided.\u001b[0m\n",
      "\u001b[32m#metrics {\"Metrics\": {\"totaltime\": {\"count\": 1, \"max\": 1260.2300643920898, \"sum\": 1260.2300643920898, \"min\": 1260.2300643920898}, \"setuptime\": {\"count\": 1, \"max\": 19.31595802307129, \"sum\": 19.31595802307129, \"min\": 19.31595802307129}}, \"EndTime\": 1520655647.720476, \"Dimensions\": {\"Host\": \"algo-2\", \"Operation\": \"training\", \"Algorithm\": \"AWS/KMeansWebscale\"}, \"StartTime\": 1520655647.718071}\n",
      "\u001b[0m\n",
      "\u001b[31m[03/10/2018 04:20:47 INFO 140014036404032] local kmeans attempt #2. Current mean square distance 11.359446\u001b[0m\n",
      "\u001b[31m[03/10/2018 04:20:47 INFO 140014036404032] local kmeans attempt #3. Current mean square distance 12.282822\u001b[0m\n",
      "\u001b[31m[03/10/2018 04:20:47 INFO 140014036404032] local kmeans attempt #4. Current mean square distance 11.956492\u001b[0m\n",
      "\u001b[31m[03/10/2018 04:20:47 INFO 140014036404032] local kmeans attempt #5. Current mean square distance 11.814436\u001b[0m\n",
      "\u001b[31m[03/10/2018 04:20:47 INFO 140014036404032] local kmeans attempt #6. Current mean square distance 11.828976\u001b[0m\n",
      "\u001b[31m[03/10/2018 04:20:47 INFO 140014036404032] local kmeans attempt #7. Current mean square distance 11.641075\u001b[0m\n",
      "\u001b[31m[03/10/2018 04:20:47 INFO 140014036404032] local kmeans attempt #8. Current mean square distance 11.660175\u001b[0m\n",
      "\u001b[31m[03/10/2018 04:20:47 INFO 140014036404032] local kmeans attempt #9. Current mean square distance 11.721832\u001b[0m\n",
      "\u001b[31m[03/10/2018 04:20:47 INFO 140014036404032] finished shrinking process. Mean Square Distance = 11\u001b[0m\n",
      "\u001b[31m[03/10/2018 04:20:47 INFO 140014036404032] compute all data-center distances: point norm took: 36.3189%, (0.300821 secs)\u001b[0m\n",
      "\u001b[31m[03/10/2018 04:20:47 INFO 140014036404032] batch data loading with context took: 25.6142%, (0.212157 secs)\u001b[0m\n",
      "\u001b[31m[03/10/2018 04:20:47 INFO 140014036404032] predict compute msd took: 8.2430%, (0.068275 secs)\u001b[0m\n",
      "\u001b[31m[03/10/2018 04:20:47 INFO 140014036404032] compute all data-center distances: center norm took: 7.7162%, (0.063911 secs)\u001b[0m\n",
      "\u001b[31m[03/10/2018 04:20:47 INFO 140014036404032] collect from kv store took: 5.5002%, (0.045557 secs)\u001b[0m\n",
      "\u001b[31m[03/10/2018 04:20:47 INFO 140014036404032] gradient: cluster size  took: 4.8723%, (0.040356 secs)\u001b[0m\n",
      "\u001b[31m[03/10/2018 04:20:47 INFO 140014036404032] gradient: cluster center took: 4.3728%, (0.036219 secs)\u001b[0m\n",
      "\u001b[31m[03/10/2018 04:20:47 INFO 140014036404032] compute all data-center distances: inner product took: 3.7427%, (0.031000 secs)\u001b[0m\n",
      "\u001b[31m[03/10/2018 04:20:47 INFO 140014036404032] update state and report convergance took: 1.3738%, (0.011379 secs)\u001b[0m\n",
      "\u001b[31m[03/10/2018 04:20:47 INFO 140014036404032] splitting centers key-value pair took: 1.2054%, (0.009984 secs)\u001b[0m\n",
      "\u001b[31m[03/10/2018 04:20:47 INFO 140014036404032] gradient: one_hot took: 0.8519%, (0.007056 secs)\u001b[0m\n",
      "\u001b[31m[03/10/2018 04:20:47 INFO 140014036404032] predict minus dist took: 0.1408%, (0.001167 secs)\u001b[0m\n",
      "\u001b[31m[03/10/2018 04:20:47 INFO 140014036404032] update set-up time took: 0.0478%, (0.000396 secs)\u001b[0m\n",
      "\u001b[31m[03/10/2018 04:20:47 INFO 140014036404032] TOTAL took: 0.828278064728\u001b[0m\n",
      "\u001b[31m[03/10/2018 04:20:47 INFO 140014036404032] Number of GPUs being used: 0\u001b[0m\n",
      "\u001b[31m#metrics {\"Metrics\": {\"finalize.time\": {\"count\": 1, \"max\": 368.8640594482422, \"sum\": 368.8640594482422, \"min\": 368.8640594482422}, \"initialize.time\": {\"count\": 1, \"max\": 19.069910049438477, \"sum\": 19.069910049438477, \"min\": 19.069910049438477}, \"model.serialize.time\": {\"count\": 1, \"max\": 0.32591819763183594, \"sum\": 0.32591819763183594, \"min\": 0.32591819763183594}, \"update.time\": {\"count\": 1, \"max\": 832.1261405944824, \"sum\": 832.1261405944824, \"min\": 832.1261405944824}, \"epochs\": {\"count\": 1, \"max\": 1, \"sum\": 1.0, \"min\": 1}, \"state.serialize.time\": {\"count\": 1, \"max\": 0.5099773406982422, \"sum\": 0.5099773406982422, \"min\": 0.5099773406982422}, \"_shrink.time\": {\"count\": 1, \"max\": 367.0930862426758, \"sum\": 367.0930862426758, \"min\": 367.0930862426758}}, \"EndTime\": 1520655647.748391, \"Dimensions\": {\"Host\": \"algo-1\", \"Operation\": \"training\", \"Algorithm\": \"AWS/KMeansWebscale\"}, \"StartTime\": 1520655646.512917}\n",
      "\u001b[0m\n",
      "\u001b[31m[03/10/2018 04:20:47 INFO 140014036404032] Test data was not provided.\u001b[0m\n",
      "\u001b[31m#metrics {\"Metrics\": {\"totaltime\": {\"count\": 1, \"max\": 6949.273109436035, \"sum\": 6949.273109436035, \"min\": 6949.273109436035}, \"setuptime\": {\"count\": 1, \"max\": 527.4860858917236, \"sum\": 527.4860858917236, \"min\": 527.4860858917236}}, \"EndTime\": 1520655647.750796, \"Dimensions\": {\"Host\": \"algo-1\", \"Operation\": \"training\", \"Algorithm\": \"AWS/KMeansWebscale\"}, \"StartTime\": 1520655647.748502}\n",
      "\u001b[0m\n"
     ]
    },
    {
     "name": "stdout",
     "output_type": "stream",
     "text": [
      "===== Job Complete =====\n",
      "CPU times: user 7.96 s, sys: 384 ms, total: 8.34 s\n",
      "Wall time: 7min 51s\n"
     ]
    }
   ],
   "source": [
    "%%time\n",
    "\n",
    "kmeans.fit(kmeans.record_set(train_set[0]))"
   ]
  },
  {
   "cell_type": "markdown",
   "metadata": {},
   "source": [
    "## Set up hosting for the model\n",
    "Now, we can deploy the model we just trained behind a real-time hosted endpoint.  This next step can take, on average, 7 to 11 minutes to complete."
   ]
  },
  {
   "cell_type": "code",
   "execution_count": 6,
   "metadata": {},
   "outputs": [
    {
     "name": "stderr",
     "output_type": "stream",
     "text": [
      "INFO:sagemaker:Creating model with name: kmeans-2018-03-10-04-22-41-257\n",
      "INFO:sagemaker:Creating endpoint with name kmeans-2018-03-10-04-15-00-153\n"
     ]
    },
    {
     "name": "stdout",
     "output_type": "stream",
     "text": [
      "---------------------------------------------------------------------------------------------------!CPU times: user 392 ms, sys: 36 ms, total: 428 ms\n",
      "Wall time: 8min 28s\n"
     ]
    }
   ],
   "source": [
    "%%time\n",
    "\n",
    "kmeans_predictor = kmeans.deploy(initial_instance_count=1,\n",
    "                                 instance_type='ml.m4.xlarge')"
   ]
  },
  {
   "cell_type": "markdown",
   "metadata": {},
   "source": [
    "## Validate the model for use\n",
    "Finally, we'll validate the model for use. Let's generate a classification for a single observation from the trained model using the endpoint we just created."
   ]
  },
  {
   "cell_type": "code",
   "execution_count": 7,
   "metadata": {},
   "outputs": [
    {
     "name": "stdout",
     "output_type": "stream",
     "text": [
      "[label {\n",
      "  key: \"closest_cluster\"\n",
      "  value {\n",
      "    float32_tensor {\n",
      "      values: 2.0\n",
      "    }\n",
      "  }\n",
      "}\n",
      "label {\n",
      "  key: \"distance_to_cluster\"\n",
      "  value {\n",
      "    float32_tensor {\n",
      "      values: 7.3603057861328125\n",
      "    }\n",
      "  }\n",
      "}\n",
      "]\n"
     ]
    }
   ],
   "source": [
    "result = kmeans_predictor.predict(train_set[0][30:31])\n",
    "print(result)"
   ]
  },
  {
   "cell_type": "markdown",
   "metadata": {},
   "source": [
    "Let's do a whole batch and see how well the clustering works."
   ]
  },
  {
   "cell_type": "code",
   "execution_count": 8,
   "metadata": {},
   "outputs": [
    {
     "name": "stdout",
     "output_type": "stream",
     "text": [
      "CPU times: user 60 ms, sys: 0 ns, total: 60 ms\n",
      "Wall time: 310 ms\n"
     ]
    }
   ],
   "source": [
    "%%time \n",
    "\n",
    "result = kmeans_predictor.predict(valid_set[0][0:100])\n",
    "clusters = [r.label['closest_cluster'].float32_tensor.values[0] for r in result]"
   ]
  },
  {
   "cell_type": "code",
   "execution_count": 9,
   "metadata": {},
   "outputs": [
    {
     "name": "stdout",
     "output_type": "stream",
     "text": [
      "\n",
      "\n",
      "\n",
      "Cluster 0:\n"
     ]
    },
    {
     "data": {
      "image/png": "[encoded data removed]",
      "text/plain": [
       "<matplotlib.figure.Figure at 0x7f452c1e5ef0>"
      ]
     },
     "metadata": {},
     "output_type": "display_data"
    },
    {
     "name": "stdout",
     "output_type": "stream",
     "text": [
      "\n",
      "\n",
      "\n",
      "Cluster 1:\n"
     ]
    },
    {
     "data": {
      "image/png": "[encoded data removed]",
      "text/plain": [
       "<matplotlib.figure.Figure at 0x7f452e74bbe0>"
      ]
     },
     "metadata": {},
     "output_type": "display_data"
    },
    {
     "name": "stdout",
     "output_type": "stream",
     "text": [
      "\n",
      "\n",
      "\n",
      "Cluster 2:\n"
     ]
    },
    {
     "data": {
      "image/png": "[encoded data removed]",
      "text/plain": [
       "<matplotlib.figure.Figure at 0x7f452c06bb38>"
      ]
     },
     "metadata": {},
     "output_type": "display_data"
    },
    {
     "name": "stdout",
     "output_type": "stream",
     "text": [
      "\n",
      "\n",
      "\n",
      "Cluster 3:\n"
     ]
    },
    {
     "data": {
      "image/png": "[encoded data removed]",
      "text/plain": [
       "<matplotlib.figure.Figure at 0x7f452bcb1128>"
      ]
     },
     "metadata": {},
     "output_type": "display_data"
    },
    {
     "name": "stdout",
     "output_type": "stream",
     "text": [
      "\n",
      "\n",
      "\n",
      "Cluster 4:\n"
     ]
    },
    {
     "data": {
      "image/png": "[encoded data removed]",
      "text/plain": [
       "<matplotlib.figure.Figure at 0x7f452c1a8240>"
      ]
     },
     "metadata": {},
     "output_type": "display_data"
    },
    {
     "name": "stdout",
     "output_type": "stream",
     "text": [
      "\n",
      "\n",
      "\n",
      "Cluster 5:\n"
     ]
    },
    {
     "data": {
      "image/png": "[encoded data removed]",
      "text/plain": [
       "<matplotlib.figure.Figure at 0x7f452b81a438>"
      ]
     },
     "metadata": {},
     "output_type": "display_data"
    },
    {
     "name": "stdout",
     "output_type": "stream",
     "text": [
      "\n",
      "\n",
      "\n",
      "Cluster 6:\n"
     ]
    },
    {
     "data": {
      "image/png": "[encoded data removed]",
      "text/plain": [
       "<matplotlib.figure.Figure at 0x7f452b6f6a20>"
      ]
     },
     "metadata": {},
     "output_type": "display_data"
    },
    {
     "name": "stdout",
     "output_type": "stream",
     "text": [
      "\n",
      "\n",
      "\n",
      "Cluster 7:\n"
     ]
    },
    {
     "data": {
      "image/png": "[encoded data removed]",
      "text/plain": [
       "<matplotlib.figure.Figure at 0x7f452bb35198>"
      ]
     },
     "metadata": {},
     "output_type": "display_data"
    },
    {
     "name": "stdout",
     "output_type": "stream",
     "text": [
      "\n",
      "\n",
      "\n",
      "Cluster 8:\n"
     ]
    },
    {
     "data": {
      "image/png": "[encoded data removed]",
      "text/plain": [
       "<matplotlib.figure.Figure at 0x7f452b4475f8>"
      ]
     },
     "metadata": {},
     "output_type": "display_data"
    },
    {
     "name": "stdout",
     "output_type": "stream",
     "text": [
      "\n",
      "\n",
      "\n",
      "Cluster 9:\n"
     ]
    },
    {
     "data": {
      "image/png": "[encoded data removed]",
      "text/plain": [
       "<matplotlib.figure.Figure at 0x7f452bfe69b0>"
      ]
     },
     "metadata": {},
     "output_type": "display_data"
    }
   ],
   "source": [
    "for cluster in range(10):\n",
    "    print('\\n\\n\\nCluster {}:'.format(int(cluster)))\n",
    "    digits = [ img for l, img in zip(clusters, valid_set[0]) if int(l) == cluster ]\n",
    "    height=((len(digits)-1)//5)+1\n",
    "    width=5\n",
    "    plt.rcParams[\"figure.figsize\"] = (width,height)\n",
    "    _, subplots = plt.subplots(height, width)\n",
    "    subplots=numpy.ndarray.flatten(subplots)\n",
    "    for subplot, image in zip(subplots, digits):\n",
    "        show_digit(image, subplot=subplot)\n",
    "    for subplot in subplots[len(digits):]:\n",
    "        subplot.axis('off')\n",
    "\n",
    "    plt.show()"
   ]
  },
  {
   "cell_type": "markdown",
   "metadata": {},
   "source": [
    "### The bottom line\n",
    "\n",
    "K-Means clustering is not the best algorithm for image analysis problems, but we do see pretty reasonable clusters being built."
   ]
  }
 ],
 "metadata": {
  "kernelspec": {
   "display_name": "conda_python3",
   "language": "python",
   "name": "conda_python3"
  },
  "language_info": {
   "codemirror_mode": {
    "name": "ipython",
    "version": 3
   },
   "file_extension": ".py",
   "mimetype": "text/x-python",
   "name": "python",
   "nbconvert_exporter": "python",
   "pygments_lexer": "ipython3",
   "version": "3.6.2"
  }
 },
 "nbformat": 4,
 "nbformat_minor": 2
}
