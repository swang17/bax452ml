{
 "cells": [
  {
   "cell_type": "markdown",
   "metadata": {
    "_cell_guid": "60c35bfb-359a-49bf-b119-bf5aeb9eceb2",
    "_uuid": "8027f6e7dee32dbd21d7cd461604303c9ef53c8a"
   },
   "source": [
    "__Reference__\n",
    "\n",
    "This notebook referenced the following Kaggle Kernels:\n",
    "-  [Nadin Tamer, Titanic Survival Predictions (Beginner)](https://www.kaggle.com/nadintamer/titanic-survival-predictions-beginner)\n",
    "-  [Omar El Gabry, A Journey through Titanic](https://www.kaggle.com/omarelgabry/a-journey-through-titanic)\n",
    "-  [Anisotropic, Introduction to Ensembling/Stacking in Python](https://www.kaggle.com/arthurtok/introduction-to-ensembling-stacking-in-python)\n",
    "- [Sina, Titanic best working Classifier](https://www.kaggle.com/sinakhorami/titanic-best-working-classifier)"
   ]
  },
  {
   "cell_type": "markdown",
   "metadata": {
    "_cell_guid": "2190a220-ac34-4549-a422-4644db0ed4d0",
    "_uuid": "b91e80d8635e896b8851cd052e56afa614b20786"
   },
   "source": [
    "## Introduction to Machine Learning through Titanic Project\n",
    "\n",
    "###  Critical Steps\n",
    "1. Importing & Exploring Necessary Libraries\n",
    "2. Read in Data\n",
    "3. Feature Exploration\n",
    "4. Data Manipulation\n",
    "5. Running Machine Learning Algorithms\n",
    "6. Creating Submission File to Kaggle"
   ]
  },
  {
   "cell_type": "markdown",
   "metadata": {
    "_cell_guid": "bdae2086-dbb9-449f-a796-ecd9b5174f27",
    "_uuid": "2ac5e8e671a54af34d224820a256964e81a74a7c"
   },
   "source": [
    "# 1. Import Libraries"
   ]
  },
  {
   "cell_type": "code",
   "execution_count": 1,
   "metadata": {
    "_cell_guid": "04cf6722-386d-417b-9826-a46b9ffa9fe4",
    "_uuid": "d45f4a58c6f3054f9da697327c465424f9e7330b",
    "collapsed": true
   },
   "outputs": [],
   "source": [
    "# Data Analysis Libraries\n",
    "import numpy as np\n",
    "import pandas as pd\n",
    "\n",
    "# Data Visualization Libraries\n",
    "import matplotlib.pyplot as plt\n",
    "import seaborn as sns\n",
    "%matplotlib inline\n",
    "\n",
    "# Machine Learning Libraries\n",
    "from sklearn.model_selection import train_test_split\n",
    "from sklearn.naive_bayes import GaussianNB\n",
    "from sklearn.linear_model import LogisticRegression\n",
    "from sklearn.svm import SVC\n",
    "from sklearn.tree import DecisionTreeClassifier\n",
    "from sklearn.ensemble import RandomForestClassifier\n",
    "from sklearn.neighbors import KNeighborsClassifier\n",
    "from sklearn.ensemble import GradientBoostingClassifier"
   ]
  },
  {
   "cell_type": "markdown",
   "metadata": {
    "_cell_guid": "1aeade1a-5daa-479e-bf26-1e7686b2d580",
    "_uuid": "6f2317efff784729d6faff4c5d7f7b1b78c1c931"
   },
   "source": [
    "# 2. Read in Data"
   ]
  },
  {
   "cell_type": "code",
   "execution_count": 2,
   "metadata": {
    "_cell_guid": "176983e1-532c-4ded-a506-eb6ed27e33d0",
    "_uuid": "46138d9e659b367f6f4fc0578164a3cb4277052c",
    "collapsed": true
   },
   "outputs": [],
   "source": [
    "train = pd.read_csv(\"train.csv\")\n",
    "test = pd.read_csv(\"test.csv\")"
   ]
  },
  {
   "cell_type": "markdown",
   "metadata": {
    "_cell_guid": "02f8a5dc-1fc3-4a33-81a6-85f3e63cf39c",
    "_uuid": "e9ddcb75310e609f5ece7ed3fd2f19cbad94c630"
   },
   "source": [
    "# 3. Feature Exploration\n",
    "\n",
    "In this step, we will get a basic sense of the data and visualize the features to figure out which ones are relevant for the analysis."
   ]
  },
  {
   "cell_type": "code",
   "execution_count": 3,
   "metadata": {
    "_cell_guid": "30262269-6ba4-4f14-9b04-a2978669ac33",
    "_uuid": "9ca5234ee67b46bb601fb8f60a5af7e025a92a3b"
   },
   "outputs": [
    {
     "data": {
      "text/html": [
       "<div>\n",
       "<style scoped>\n",
       "    .dataframe tbody tr th:only-of-type {\n",
       "        vertical-align: middle;\n",
       "    }\n",
       "\n",
       "    .dataframe tbody tr th {\n",
       "        vertical-align: top;\n",
       "    }\n",
       "\n",
       "    .dataframe thead th {\n",
       "        text-align: right;\n",
       "    }\n",
       "</style>\n",
       "<table border=\"1\" class=\"dataframe\">\n",
       "  <thead>\n",
       "    <tr style=\"text-align: right;\">\n",
       "      <th></th>\n",
       "      <th>PassengerId</th>\n",
       "      <th>Survived</th>\n",
       "      <th>Pclass</th>\n",
       "      <th>Name</th>\n",
       "      <th>Sex</th>\n",
       "      <th>Age</th>\n",
       "      <th>SibSp</th>\n",
       "      <th>Parch</th>\n",
       "      <th>Ticket</th>\n",
       "      <th>Fare</th>\n",
       "      <th>Cabin</th>\n",
       "      <th>Embarked</th>\n",
       "    </tr>\n",
       "  </thead>\n",
       "  <tbody>\n",
       "    <tr>\n",
       "      <th>570</th>\n",
       "      <td>571</td>\n",
       "      <td>1</td>\n",
       "      <td>2</td>\n",
       "      <td>Harris, Mr. George</td>\n",
       "      <td>male</td>\n",
       "      <td>62.0</td>\n",
       "      <td>0</td>\n",
       "      <td>0</td>\n",
       "      <td>S.W./PP 752</td>\n",
       "      <td>10.5</td>\n",
       "      <td>NaN</td>\n",
       "      <td>S</td>\n",
       "    </tr>\n",
       "    <tr>\n",
       "      <th>559</th>\n",
       "      <td>560</td>\n",
       "      <td>1</td>\n",
       "      <td>3</td>\n",
       "      <td>de Messemaeker, Mrs. Guillaume Joseph (Emma)</td>\n",
       "      <td>female</td>\n",
       "      <td>36.0</td>\n",
       "      <td>1</td>\n",
       "      <td>0</td>\n",
       "      <td>345572</td>\n",
       "      <td>17.4</td>\n",
       "      <td>NaN</td>\n",
       "      <td>S</td>\n",
       "    </tr>\n",
       "    <tr>\n",
       "      <th>336</th>\n",
       "      <td>337</td>\n",
       "      <td>0</td>\n",
       "      <td>1</td>\n",
       "      <td>Pears, Mr. Thomas Clinton</td>\n",
       "      <td>male</td>\n",
       "      <td>29.0</td>\n",
       "      <td>1</td>\n",
       "      <td>0</td>\n",
       "      <td>113776</td>\n",
       "      <td>66.6</td>\n",
       "      <td>C2</td>\n",
       "      <td>S</td>\n",
       "    </tr>\n",
       "    <tr>\n",
       "      <th>728</th>\n",
       "      <td>729</td>\n",
       "      <td>0</td>\n",
       "      <td>2</td>\n",
       "      <td>Bryhl, Mr. Kurt Arnold Gottfrid</td>\n",
       "      <td>male</td>\n",
       "      <td>25.0</td>\n",
       "      <td>1</td>\n",
       "      <td>0</td>\n",
       "      <td>236853</td>\n",
       "      <td>26.0</td>\n",
       "      <td>NaN</td>\n",
       "      <td>S</td>\n",
       "    </tr>\n",
       "    <tr>\n",
       "      <th>887</th>\n",
       "      <td>888</td>\n",
       "      <td>1</td>\n",
       "      <td>1</td>\n",
       "      <td>Graham, Miss. Margaret Edith</td>\n",
       "      <td>female</td>\n",
       "      <td>19.0</td>\n",
       "      <td>0</td>\n",
       "      <td>0</td>\n",
       "      <td>112053</td>\n",
       "      <td>30.0</td>\n",
       "      <td>B42</td>\n",
       "      <td>S</td>\n",
       "    </tr>\n",
       "  </tbody>\n",
       "</table>\n",
       "</div>"
      ],
      "text/plain": [
       "     PassengerId  Survived  Pclass  \\\n",
       "570          571         1       2   \n",
       "559          560         1       3   \n",
       "336          337         0       1   \n",
       "728          729         0       2   \n",
       "887          888         1       1   \n",
       "\n",
       "                                             Name     Sex   Age  SibSp  Parch  \\\n",
       "570                            Harris, Mr. George    male  62.0      0      0   \n",
       "559  de Messemaeker, Mrs. Guillaume Joseph (Emma)  female  36.0      1      0   \n",
       "336                     Pears, Mr. Thomas Clinton    male  29.0      1      0   \n",
       "728               Bryhl, Mr. Kurt Arnold Gottfrid    male  25.0      1      0   \n",
       "887                  Graham, Miss. Margaret Edith  female  19.0      0      0   \n",
       "\n",
       "          Ticket  Fare Cabin Embarked  \n",
       "570  S.W./PP 752  10.5   NaN        S  \n",
       "559       345572  17.4   NaN        S  \n",
       "336       113776  66.6    C2        S  \n",
       "728       236853  26.0   NaN        S  \n",
       "887       112053  30.0   B42        S  "
      ]
     },
     "execution_count": 3,
     "metadata": {},
     "output_type": "execute_result"
    }
   ],
   "source": [
    "# A basic look at the training data\n",
    "train.sample(5)"
   ]
  },
  {
   "cell_type": "code",
   "execution_count": 4,
   "metadata": {
    "_cell_guid": "cd96a59f-fdca-492d-8bf0-05612adfa019",
    "_uuid": "52e13714e0011658e5c7a60a1c05012978290b5d"
   },
   "outputs": [
    {
     "data": {
      "text/html": [
       "<div>\n",
       "<style scoped>\n",
       "    .dataframe tbody tr th:only-of-type {\n",
       "        vertical-align: middle;\n",
       "    }\n",
       "\n",
       "    .dataframe tbody tr th {\n",
       "        vertical-align: top;\n",
       "    }\n",
       "\n",
       "    .dataframe thead th {\n",
       "        text-align: right;\n",
       "    }\n",
       "</style>\n",
       "<table border=\"1\" class=\"dataframe\">\n",
       "  <thead>\n",
       "    <tr style=\"text-align: right;\">\n",
       "      <th></th>\n",
       "      <th>PassengerId</th>\n",
       "      <th>Survived</th>\n",
       "      <th>Pclass</th>\n",
       "      <th>Name</th>\n",
       "      <th>Sex</th>\n",
       "      <th>Age</th>\n",
       "      <th>SibSp</th>\n",
       "      <th>Parch</th>\n",
       "      <th>Ticket</th>\n",
       "      <th>Fare</th>\n",
       "      <th>Cabin</th>\n",
       "      <th>Embarked</th>\n",
       "    </tr>\n",
       "  </thead>\n",
       "  <tbody>\n",
       "    <tr>\n",
       "      <th>count</th>\n",
       "      <td>891.000000</td>\n",
       "      <td>891.000000</td>\n",
       "      <td>891.000000</td>\n",
       "      <td>891</td>\n",
       "      <td>891</td>\n",
       "      <td>714.000000</td>\n",
       "      <td>891.000000</td>\n",
       "      <td>891.000000</td>\n",
       "      <td>891</td>\n",
       "      <td>891.000000</td>\n",
       "      <td>204</td>\n",
       "      <td>889</td>\n",
       "    </tr>\n",
       "    <tr>\n",
       "      <th>unique</th>\n",
       "      <td>NaN</td>\n",
       "      <td>NaN</td>\n",
       "      <td>NaN</td>\n",
       "      <td>891</td>\n",
       "      <td>2</td>\n",
       "      <td>NaN</td>\n",
       "      <td>NaN</td>\n",
       "      <td>NaN</td>\n",
       "      <td>681</td>\n",
       "      <td>NaN</td>\n",
       "      <td>147</td>\n",
       "      <td>3</td>\n",
       "    </tr>\n",
       "    <tr>\n",
       "      <th>top</th>\n",
       "      <td>NaN</td>\n",
       "      <td>NaN</td>\n",
       "      <td>NaN</td>\n",
       "      <td>Bishop, Mrs. Dickinson H (Helen Walton)</td>\n",
       "      <td>male</td>\n",
       "      <td>NaN</td>\n",
       "      <td>NaN</td>\n",
       "      <td>NaN</td>\n",
       "      <td>347082</td>\n",
       "      <td>NaN</td>\n",
       "      <td>B96 B98</td>\n",
       "      <td>S</td>\n",
       "    </tr>\n",
       "    <tr>\n",
       "      <th>freq</th>\n",
       "      <td>NaN</td>\n",
       "      <td>NaN</td>\n",
       "      <td>NaN</td>\n",
       "      <td>1</td>\n",
       "      <td>577</td>\n",
       "      <td>NaN</td>\n",
       "      <td>NaN</td>\n",
       "      <td>NaN</td>\n",
       "      <td>7</td>\n",
       "      <td>NaN</td>\n",
       "      <td>4</td>\n",
       "      <td>644</td>\n",
       "    </tr>\n",
       "    <tr>\n",
       "      <th>mean</th>\n",
       "      <td>446.000000</td>\n",
       "      <td>0.383838</td>\n",
       "      <td>2.308642</td>\n",
       "      <td>NaN</td>\n",
       "      <td>NaN</td>\n",
       "      <td>29.699118</td>\n",
       "      <td>0.523008</td>\n",
       "      <td>0.381594</td>\n",
       "      <td>NaN</td>\n",
       "      <td>32.204208</td>\n",
       "      <td>NaN</td>\n",
       "      <td>NaN</td>\n",
       "    </tr>\n",
       "    <tr>\n",
       "      <th>std</th>\n",
       "      <td>257.353842</td>\n",
       "      <td>0.486592</td>\n",
       "      <td>0.836071</td>\n",
       "      <td>NaN</td>\n",
       "      <td>NaN</td>\n",
       "      <td>14.526497</td>\n",
       "      <td>1.102743</td>\n",
       "      <td>0.806057</td>\n",
       "      <td>NaN</td>\n",
       "      <td>49.693429</td>\n",
       "      <td>NaN</td>\n",
       "      <td>NaN</td>\n",
       "    </tr>\n",
       "    <tr>\n",
       "      <th>min</th>\n",
       "      <td>1.000000</td>\n",
       "      <td>0.000000</td>\n",
       "      <td>1.000000</td>\n",
       "      <td>NaN</td>\n",
       "      <td>NaN</td>\n",
       "      <td>0.420000</td>\n",
       "      <td>0.000000</td>\n",
       "      <td>0.000000</td>\n",
       "      <td>NaN</td>\n",
       "      <td>0.000000</td>\n",
       "      <td>NaN</td>\n",
       "      <td>NaN</td>\n",
       "    </tr>\n",
       "    <tr>\n",
       "      <th>25%</th>\n",
       "      <td>223.500000</td>\n",
       "      <td>0.000000</td>\n",
       "      <td>2.000000</td>\n",
       "      <td>NaN</td>\n",
       "      <td>NaN</td>\n",
       "      <td>20.125000</td>\n",
       "      <td>0.000000</td>\n",
       "      <td>0.000000</td>\n",
       "      <td>NaN</td>\n",
       "      <td>7.910400</td>\n",
       "      <td>NaN</td>\n",
       "      <td>NaN</td>\n",
       "    </tr>\n",
       "    <tr>\n",
       "      <th>50%</th>\n",
       "      <td>446.000000</td>\n",
       "      <td>0.000000</td>\n",
       "      <td>3.000000</td>\n",
       "      <td>NaN</td>\n",
       "      <td>NaN</td>\n",
       "      <td>28.000000</td>\n",
       "      <td>0.000000</td>\n",
       "      <td>0.000000</td>\n",
       "      <td>NaN</td>\n",
       "      <td>14.454200</td>\n",
       "      <td>NaN</td>\n",
       "      <td>NaN</td>\n",
       "    </tr>\n",
       "    <tr>\n",
       "      <th>75%</th>\n",
       "      <td>668.500000</td>\n",
       "      <td>1.000000</td>\n",
       "      <td>3.000000</td>\n",
       "      <td>NaN</td>\n",
       "      <td>NaN</td>\n",
       "      <td>38.000000</td>\n",
       "      <td>1.000000</td>\n",
       "      <td>0.000000</td>\n",
       "      <td>NaN</td>\n",
       "      <td>31.000000</td>\n",
       "      <td>NaN</td>\n",
       "      <td>NaN</td>\n",
       "    </tr>\n",
       "    <tr>\n",
       "      <th>max</th>\n",
       "      <td>891.000000</td>\n",
       "      <td>1.000000</td>\n",
       "      <td>3.000000</td>\n",
       "      <td>NaN</td>\n",
       "      <td>NaN</td>\n",
       "      <td>80.000000</td>\n",
       "      <td>8.000000</td>\n",
       "      <td>6.000000</td>\n",
       "      <td>NaN</td>\n",
       "      <td>512.329200</td>\n",
       "      <td>NaN</td>\n",
       "      <td>NaN</td>\n",
       "    </tr>\n",
       "  </tbody>\n",
       "</table>\n",
       "</div>"
      ],
      "text/plain": [
       "        PassengerId    Survived      Pclass  \\\n",
       "count    891.000000  891.000000  891.000000   \n",
       "unique          NaN         NaN         NaN   \n",
       "top             NaN         NaN         NaN   \n",
       "freq            NaN         NaN         NaN   \n",
       "mean     446.000000    0.383838    2.308642   \n",
       "std      257.353842    0.486592    0.836071   \n",
       "min        1.000000    0.000000    1.000000   \n",
       "25%      223.500000    0.000000    2.000000   \n",
       "50%      446.000000    0.000000    3.000000   \n",
       "75%      668.500000    1.000000    3.000000   \n",
       "max      891.000000    1.000000    3.000000   \n",
       "\n",
       "                                           Name   Sex         Age       SibSp  \\\n",
       "count                                       891   891  714.000000  891.000000   \n",
       "unique                                      891     2         NaN         NaN   \n",
       "top     Bishop, Mrs. Dickinson H (Helen Walton)  male         NaN         NaN   \n",
       "freq                                          1   577         NaN         NaN   \n",
       "mean                                        NaN   NaN   29.699118    0.523008   \n",
       "std                                         NaN   NaN   14.526497    1.102743   \n",
       "min                                         NaN   NaN    0.420000    0.000000   \n",
       "25%                                         NaN   NaN   20.125000    0.000000   \n",
       "50%                                         NaN   NaN   28.000000    0.000000   \n",
       "75%                                         NaN   NaN   38.000000    1.000000   \n",
       "max                                         NaN   NaN   80.000000    8.000000   \n",
       "\n",
       "             Parch  Ticket        Fare    Cabin Embarked  \n",
       "count   891.000000     891  891.000000      204      889  \n",
       "unique         NaN     681         NaN      147        3  \n",
       "top            NaN  347082         NaN  B96 B98        S  \n",
       "freq           NaN       7         NaN        4      644  \n",
       "mean      0.381594     NaN   32.204208      NaN      NaN  \n",
       "std       0.806057     NaN   49.693429      NaN      NaN  \n",
       "min       0.000000     NaN    0.000000      NaN      NaN  \n",
       "25%       0.000000     NaN    7.910400      NaN      NaN  \n",
       "50%       0.000000     NaN   14.454200      NaN      NaN  \n",
       "75%       0.000000     NaN   31.000000      NaN      NaN  \n",
       "max       6.000000     NaN  512.329200      NaN      NaN  "
      ]
     },
     "execution_count": 4,
     "metadata": {},
     "output_type": "execute_result"
    }
   ],
   "source": [
    "# Summary of the training data\n",
    "train.describe(include = \"all\")"
   ]
  },
  {
   "cell_type": "code",
   "execution_count": 5,
   "metadata": {
    "_cell_guid": "06ce185f-1c5d-4bd2-b2aa-d43f26a14bef",
    "_uuid": "3847162e1c8255083825854642e309e9df4b5170",
    "scrolled": false
   },
   "outputs": [
    {
     "name": "stdout",
     "output_type": "stream",
     "text": [
      "<class 'pandas.core.frame.DataFrame'>\n",
      "RangeIndex: 891 entries, 0 to 890\n",
      "Data columns (total 12 columns):\n",
      "PassengerId    891 non-null int64\n",
      "Survived       891 non-null int64\n",
      "Pclass         891 non-null int64\n",
      "Name           891 non-null object\n",
      "Sex            891 non-null object\n",
      "Age            714 non-null float64\n",
      "SibSp          891 non-null int64\n",
      "Parch          891 non-null int64\n",
      "Ticket         891 non-null object\n",
      "Fare           891 non-null float64\n",
      "Cabin          204 non-null object\n",
      "Embarked       889 non-null object\n",
      "dtypes: float64(2), int64(5), object(5)\n",
      "memory usage: 83.6+ KB\n",
      "***************************************************\n",
      "<class 'pandas.core.frame.DataFrame'>\n",
      "RangeIndex: 418 entries, 0 to 417\n",
      "Data columns (total 11 columns):\n",
      "PassengerId    418 non-null int64\n",
      "Pclass         418 non-null int64\n",
      "Name           418 non-null object\n",
      "Sex            418 non-null object\n",
      "Age            332 non-null float64\n",
      "SibSp          418 non-null int64\n",
      "Parch          418 non-null int64\n",
      "Ticket         418 non-null object\n",
      "Fare           417 non-null float64\n",
      "Cabin          91 non-null object\n",
      "Embarked       418 non-null object\n",
      "dtypes: float64(2), int64(4), object(5)\n",
      "memory usage: 36.0+ KB\n"
     ]
    }
   ],
   "source": [
    "# Get a clearer understanding of data types and missing values\n",
    "train.info()\n",
    "print('***************************************************')\n",
    "test.info()"
   ]
  },
  {
   "cell_type": "markdown",
   "metadata": {
    "_cell_guid": "94c8ddee-4f94-49c4-a3cb-36b088c396fa",
    "_uuid": "79c8b3d5815a1dc714ec875e6a4fe31cd2656a7d"
   },
   "source": [
    "## 3.1 Pclass"
   ]
  },
  {
   "cell_type": "code",
   "execution_count": 6,
   "metadata": {
    "_cell_guid": "3eeb9f9b-62b7-4b80-8c69-bcd184ad8303",
    "_uuid": "b7ae451697e95c7c802730836a3e7fd01cda86eb"
   },
   "outputs": [
    {
     "data": {
      "text/html": [
       "<div>\n",
       "<style scoped>\n",
       "    .dataframe tbody tr th:only-of-type {\n",
       "        vertical-align: middle;\n",
       "    }\n",
       "\n",
       "    .dataframe tbody tr th {\n",
       "        vertical-align: top;\n",
       "    }\n",
       "\n",
       "    .dataframe thead th {\n",
       "        text-align: right;\n",
       "    }\n",
       "</style>\n",
       "<table border=\"1\" class=\"dataframe\">\n",
       "  <thead>\n",
       "    <tr style=\"text-align: right;\">\n",
       "      <th></th>\n",
       "      <th>Pclass</th>\n",
       "      <th>Survived</th>\n",
       "    </tr>\n",
       "  </thead>\n",
       "  <tbody>\n",
       "    <tr>\n",
       "      <th>0</th>\n",
       "      <td>1</td>\n",
       "      <td>0.629630</td>\n",
       "    </tr>\n",
       "    <tr>\n",
       "      <th>1</th>\n",
       "      <td>2</td>\n",
       "      <td>0.472826</td>\n",
       "    </tr>\n",
       "    <tr>\n",
       "      <th>2</th>\n",
       "      <td>3</td>\n",
       "      <td>0.242363</td>\n",
       "    </tr>\n",
       "  </tbody>\n",
       "</table>\n",
       "</div>"
      ],
      "text/plain": [
       "   Pclass  Survived\n",
       "0       1  0.629630\n",
       "1       2  0.472826\n",
       "2       3  0.242363"
      ]
     },
     "execution_count": 6,
     "metadata": {},
     "output_type": "execute_result"
    },
    {
     "data": {
      "image/png": "[encoded data removed]",
      "text/plain": [
       "<matplotlib.figure.Figure at 0x10a8b9d30>"
      ]
     },
     "metadata": {},
     "output_type": "display_data"
    }
   ],
   "source": [
    "# Explore if survival rate depends on passenger class\n",
    "sns.barplot(x = \"Pclass\", y = \"Survived\", data = train)\n",
    "train[[\"Pclass\", \"Survived\"]].groupby([\"Pclass\"], as_index = False).mean()"
   ]
  },
  {
   "cell_type": "markdown",
   "metadata": {
    "_cell_guid": "79d1531c-195e-48cf-9a82-01f4c1785663",
    "_uuid": "9a432f593be2d1eb6c94df0dfd0314dec7bfce98"
   },
   "source": [
    "There seems to be a significant difference in survival rate for passengers in different classes. This feature should go into the model."
   ]
  },
  {
   "cell_type": "markdown",
   "metadata": {
    "_cell_guid": "cb051c90-c0c7-40c8-a94d-a35c8f6cc97a",
    "_uuid": "ceb81a17ac17a989aba53e1d7edac74ebef39825"
   },
   "source": [
    "## 3.2 Sex"
   ]
  },
  {
   "cell_type": "code",
   "execution_count": 7,
   "metadata": {
    "_cell_guid": "fbf527ed-25bc-4ebe-a217-2c564c4380ad",
    "_uuid": "890f5810b8e499cd71e4dbd25f60c043900cf646",
    "scrolled": true
   },
   "outputs": [
    {
     "data": {
      "text/html": [
       "<div>\n",
       "<style scoped>\n",
       "    .dataframe tbody tr th:only-of-type {\n",
       "        vertical-align: middle;\n",
       "    }\n",
       "\n",
       "    .dataframe tbody tr th {\n",
       "        vertical-align: top;\n",
       "    }\n",
       "\n",
       "    .dataframe thead th {\n",
       "        text-align: right;\n",
       "    }\n",
       "</style>\n",
       "<table border=\"1\" class=\"dataframe\">\n",
       "  <thead>\n",
       "    <tr style=\"text-align: right;\">\n",
       "      <th></th>\n",
       "      <th>Sex</th>\n",
       "      <th>Survived</th>\n",
       "    </tr>\n",
       "  </thead>\n",
       "  <tbody>\n",
       "    <tr>\n",
       "      <th>0</th>\n",
       "      <td>female</td>\n",
       "      <td>0.742038</td>\n",
       "    </tr>\n",
       "    <tr>\n",
       "      <th>1</th>\n",
       "      <td>male</td>\n",
       "      <td>0.188908</td>\n",
       "    </tr>\n",
       "  </tbody>\n",
       "</table>\n",
       "</div>"
      ],
      "text/plain": [
       "      Sex  Survived\n",
       "0  female  0.742038\n",
       "1    male  0.188908"
      ]
     },
     "execution_count": 7,
     "metadata": {},
     "output_type": "execute_result"
    },
    {
     "data": {
      "image/png": "[encoded data removed]",
      "text/plain": [
       "<matplotlib.figure.Figure at 0x10a62f5c0>"
      ]
     },
     "metadata": {},
     "output_type": "display_data"
    }
   ],
   "source": [
    "# Explore if survival rate depends on passenger gender\n",
    "sns.barplot(x = \"Sex\", y = \"Survived\", data = train)\n",
    "train[[\"Sex\", \"Survived\"]].groupby([\"Sex\"], as_index = False).mean()"
   ]
  },
  {
   "cell_type": "markdown",
   "metadata": {
    "_cell_guid": "5bf389bd-c909-4b27-b994-60923d974601",
    "_uuid": "9b28a0f2aeac9e4d4833731c1243b91fb997afe6"
   },
   "source": [
    "Sex should definitely go into the model as well."
   ]
  },
  {
   "cell_type": "markdown",
   "metadata": {
    "_cell_guid": "71aea022-8031-4cb6-949c-3a96058a6eb4",
    "_uuid": "c7262691a4d470b5511d2c5e85818d61e91a0de9"
   },
   "source": [
    "## 3.3 Age "
   ]
  },
  {
   "cell_type": "code",
   "execution_count": 8,
   "metadata": {
    "_cell_guid": "e14f67f9-7bc8-49a0-866e-9dc52382b851",
    "_uuid": "03ccafe913df52a63571e8170ed686a13aa67fdf"
   },
   "outputs": [
    {
     "data": {
      "text/plain": [
       "<matplotlib.axes._subplots.AxesSubplot at 0x10a66cc18>"
      ]
     },
     "execution_count": 8,
     "metadata": {},
     "output_type": "execute_result"
    },
    {
     "data": {
      "image/png": "[encoded data removed]",
      "text/plain": [
       "<matplotlib.figure.Figure at 0x10a738128>"
      ]
     },
     "metadata": {},
     "output_type": "display_data"
    }
   ],
   "source": [
    "# Age is a continuous variable with 20% of the data missing. \n",
    "# We will first look at the distribution\n",
    "sns.distplot(train[\"Age\"].dropna(), bins = 70, kde = False)"
   ]
  },
  {
   "cell_type": "markdown",
   "metadata": {
    "_cell_guid": "542506f9-d37e-40af-924d-253de0d4a6be",
    "_uuid": "a9258526982acf6c4e57e410564131a626caab4d"
   },
   "source": [
    "- Age is not normally distributed so we cannot simply generate random numbers following a normal distribution to fill in the missing numbers. \n",
    "- Instead of treating age as a continuous variable, it might be better to categorize age intervals since one year difference in age would probably not determine if the person survive.\n",
    "- In the next section, we will come up ways to fill in the missing value and categorize age."
   ]
  },
  {
   "cell_type": "markdown",
   "metadata": {
    "_cell_guid": "5bafe9d0-0852-42cc-beab-96ae22ec4cc9",
    "_uuid": "e98c051920c1236f618cfbd725e6a803606ed1cf"
   },
   "source": [
    "## 3.3 SibSp"
   ]
  },
  {
   "cell_type": "code",
   "execution_count": 9,
   "metadata": {
    "_cell_guid": "72a96cd7-98cf-4f73-92ba-0bb55bd0e5dc",
    "_uuid": "c84fe879b18428d08f96e6d24e090b1682df2da3",
    "scrolled": false
   },
   "outputs": [
    {
     "name": "stdout",
     "output_type": "stream",
     "text": [
      "   Survived Mean  Count       STD\n",
      "0       0.345395    608  0.475888\n",
      "1       0.535885    209  0.499908\n",
      "2       0.464286     28  0.507875\n",
      "3       0.250000     16  0.447214\n",
      "4       0.166667     18  0.383482\n",
      "5       0.000000      5  0.000000\n",
      "6       0.000000      7  0.000000\n"
     ]
    },
    {
     "data": {
      "text/html": [
       "<div>\n",
       "<style scoped>\n",
       "    .dataframe tbody tr th:only-of-type {\n",
       "        vertical-align: middle;\n",
       "    }\n",
       "\n",
       "    .dataframe tbody tr th {\n",
       "        vertical-align: top;\n",
       "    }\n",
       "\n",
       "    .dataframe thead th {\n",
       "        text-align: right;\n",
       "    }\n",
       "</style>\n",
       "<table border=\"1\" class=\"dataframe\">\n",
       "  <thead>\n",
       "    <tr style=\"text-align: right;\">\n",
       "      <th></th>\n",
       "      <th>PassengerId</th>\n",
       "      <th>Survived</th>\n",
       "      <th>Pclass</th>\n",
       "      <th>Name</th>\n",
       "      <th>Sex</th>\n",
       "      <th>Age</th>\n",
       "      <th>SibSp</th>\n",
       "      <th>Parch</th>\n",
       "      <th>Ticket</th>\n",
       "      <th>Fare</th>\n",
       "      <th>Cabin</th>\n",
       "      <th>Embarked</th>\n",
       "    </tr>\n",
       "  </thead>\n",
       "  <tbody>\n",
       "    <tr>\n",
       "      <th>59</th>\n",
       "      <td>60</td>\n",
       "      <td>0</td>\n",
       "      <td>3</td>\n",
       "      <td>Goodwin, Master. William Frederick</td>\n",
       "      <td>male</td>\n",
       "      <td>11.0</td>\n",
       "      <td>5</td>\n",
       "      <td>2</td>\n",
       "      <td>CA 2144</td>\n",
       "      <td>46.90</td>\n",
       "      <td>NaN</td>\n",
       "      <td>S</td>\n",
       "    </tr>\n",
       "    <tr>\n",
       "      <th>71</th>\n",
       "      <td>72</td>\n",
       "      <td>0</td>\n",
       "      <td>3</td>\n",
       "      <td>Goodwin, Miss. Lillian Amy</td>\n",
       "      <td>female</td>\n",
       "      <td>16.0</td>\n",
       "      <td>5</td>\n",
       "      <td>2</td>\n",
       "      <td>CA 2144</td>\n",
       "      <td>46.90</td>\n",
       "      <td>NaN</td>\n",
       "      <td>S</td>\n",
       "    </tr>\n",
       "    <tr>\n",
       "      <th>159</th>\n",
       "      <td>160</td>\n",
       "      <td>0</td>\n",
       "      <td>3</td>\n",
       "      <td>Sage, Master. Thomas Henry</td>\n",
       "      <td>male</td>\n",
       "      <td>NaN</td>\n",
       "      <td>8</td>\n",
       "      <td>2</td>\n",
       "      <td>CA. 2343</td>\n",
       "      <td>69.55</td>\n",
       "      <td>NaN</td>\n",
       "      <td>S</td>\n",
       "    </tr>\n",
       "    <tr>\n",
       "      <th>180</th>\n",
       "      <td>181</td>\n",
       "      <td>0</td>\n",
       "      <td>3</td>\n",
       "      <td>Sage, Miss. Constance Gladys</td>\n",
       "      <td>female</td>\n",
       "      <td>NaN</td>\n",
       "      <td>8</td>\n",
       "      <td>2</td>\n",
       "      <td>CA. 2343</td>\n",
       "      <td>69.55</td>\n",
       "      <td>NaN</td>\n",
       "      <td>S</td>\n",
       "    </tr>\n",
       "    <tr>\n",
       "      <th>201</th>\n",
       "      <td>202</td>\n",
       "      <td>0</td>\n",
       "      <td>3</td>\n",
       "      <td>Sage, Mr. Frederick</td>\n",
       "      <td>male</td>\n",
       "      <td>NaN</td>\n",
       "      <td>8</td>\n",
       "      <td>2</td>\n",
       "      <td>CA. 2343</td>\n",
       "      <td>69.55</td>\n",
       "      <td>NaN</td>\n",
       "      <td>S</td>\n",
       "    </tr>\n",
       "    <tr>\n",
       "      <th>324</th>\n",
       "      <td>325</td>\n",
       "      <td>0</td>\n",
       "      <td>3</td>\n",
       "      <td>Sage, Mr. George John Jr</td>\n",
       "      <td>male</td>\n",
       "      <td>NaN</td>\n",
       "      <td>8</td>\n",
       "      <td>2</td>\n",
       "      <td>CA. 2343</td>\n",
       "      <td>69.55</td>\n",
       "      <td>NaN</td>\n",
       "      <td>S</td>\n",
       "    </tr>\n",
       "    <tr>\n",
       "      <th>386</th>\n",
       "      <td>387</td>\n",
       "      <td>0</td>\n",
       "      <td>3</td>\n",
       "      <td>Goodwin, Master. Sidney Leonard</td>\n",
       "      <td>male</td>\n",
       "      <td>1.0</td>\n",
       "      <td>5</td>\n",
       "      <td>2</td>\n",
       "      <td>CA 2144</td>\n",
       "      <td>46.90</td>\n",
       "      <td>NaN</td>\n",
       "      <td>S</td>\n",
       "    </tr>\n",
       "    <tr>\n",
       "      <th>480</th>\n",
       "      <td>481</td>\n",
       "      <td>0</td>\n",
       "      <td>3</td>\n",
       "      <td>Goodwin, Master. Harold Victor</td>\n",
       "      <td>male</td>\n",
       "      <td>9.0</td>\n",
       "      <td>5</td>\n",
       "      <td>2</td>\n",
       "      <td>CA 2144</td>\n",
       "      <td>46.90</td>\n",
       "      <td>NaN</td>\n",
       "      <td>S</td>\n",
       "    </tr>\n",
       "    <tr>\n",
       "      <th>683</th>\n",
       "      <td>684</td>\n",
       "      <td>0</td>\n",
       "      <td>3</td>\n",
       "      <td>Goodwin, Mr. Charles Edward</td>\n",
       "      <td>male</td>\n",
       "      <td>14.0</td>\n",
       "      <td>5</td>\n",
       "      <td>2</td>\n",
       "      <td>CA 2144</td>\n",
       "      <td>46.90</td>\n",
       "      <td>NaN</td>\n",
       "      <td>S</td>\n",
       "    </tr>\n",
       "    <tr>\n",
       "      <th>792</th>\n",
       "      <td>793</td>\n",
       "      <td>0</td>\n",
       "      <td>3</td>\n",
       "      <td>Sage, Miss. Stella Anna</td>\n",
       "      <td>female</td>\n",
       "      <td>NaN</td>\n",
       "      <td>8</td>\n",
       "      <td>2</td>\n",
       "      <td>CA. 2343</td>\n",
       "      <td>69.55</td>\n",
       "      <td>NaN</td>\n",
       "      <td>S</td>\n",
       "    </tr>\n",
       "    <tr>\n",
       "      <th>846</th>\n",
       "      <td>847</td>\n",
       "      <td>0</td>\n",
       "      <td>3</td>\n",
       "      <td>Sage, Mr. Douglas Bullen</td>\n",
       "      <td>male</td>\n",
       "      <td>NaN</td>\n",
       "      <td>8</td>\n",
       "      <td>2</td>\n",
       "      <td>CA. 2343</td>\n",
       "      <td>69.55</td>\n",
       "      <td>NaN</td>\n",
       "      <td>S</td>\n",
       "    </tr>\n",
       "    <tr>\n",
       "      <th>863</th>\n",
       "      <td>864</td>\n",
       "      <td>0</td>\n",
       "      <td>3</td>\n",
       "      <td>Sage, Miss. Dorothy Edith \"Dolly\"</td>\n",
       "      <td>female</td>\n",
       "      <td>NaN</td>\n",
       "      <td>8</td>\n",
       "      <td>2</td>\n",
       "      <td>CA. 2343</td>\n",
       "      <td>69.55</td>\n",
       "      <td>NaN</td>\n",
       "      <td>S</td>\n",
       "    </tr>\n",
       "  </tbody>\n",
       "</table>\n",
       "</div>"
      ],
      "text/plain": [
       "     PassengerId  Survived  Pclass                                Name  \\\n",
       "59            60         0       3  Goodwin, Master. William Frederick   \n",
       "71            72         0       3          Goodwin, Miss. Lillian Amy   \n",
       "159          160         0       3          Sage, Master. Thomas Henry   \n",
       "180          181         0       3        Sage, Miss. Constance Gladys   \n",
       "201          202         0       3                 Sage, Mr. Frederick   \n",
       "324          325         0       3            Sage, Mr. George John Jr   \n",
       "386          387         0       3     Goodwin, Master. Sidney Leonard   \n",
       "480          481         0       3      Goodwin, Master. Harold Victor   \n",
       "683          684         0       3         Goodwin, Mr. Charles Edward   \n",
       "792          793         0       3             Sage, Miss. Stella Anna   \n",
       "846          847         0       3            Sage, Mr. Douglas Bullen   \n",
       "863          864         0       3   Sage, Miss. Dorothy Edith \"Dolly\"   \n",
       "\n",
       "        Sex   Age  SibSp  Parch    Ticket   Fare Cabin Embarked  \n",
       "59     male  11.0      5      2   CA 2144  46.90   NaN        S  \n",
       "71   female  16.0      5      2   CA 2144  46.90   NaN        S  \n",
       "159    male   NaN      8      2  CA. 2343  69.55   NaN        S  \n",
       "180  female   NaN      8      2  CA. 2343  69.55   NaN        S  \n",
       "201    male   NaN      8      2  CA. 2343  69.55   NaN        S  \n",
       "324    male   NaN      8      2  CA. 2343  69.55   NaN        S  \n",
       "386    male   1.0      5      2   CA 2144  46.90   NaN        S  \n",
       "480    male   9.0      5      2   CA 2144  46.90   NaN        S  \n",
       "683    male  14.0      5      2   CA 2144  46.90   NaN        S  \n",
       "792  female   NaN      8      2  CA. 2343  69.55   NaN        S  \n",
       "846    male   NaN      8      2  CA. 2343  69.55   NaN        S  \n",
       "863  female   NaN      8      2  CA. 2343  69.55   NaN        S  "
      ]
     },
     "execution_count": 9,
     "metadata": {},
     "output_type": "execute_result"
    },
    {
     "data": {
      "image/png": "[encoded data removed]",
      "text/plain": [
       "<matplotlib.figure.Figure at 0x10a68e208>"
      ]
     },
     "metadata": {},
     "output_type": "display_data"
    }
   ],
   "source": [
    "# Explore if survival rate depends on the number of siblings/spouses abroad the Titanic\n",
    "sns.barplot(x = \"SibSp\", y = \"Survived\", data = train)\n",
    "sibsp = pd.DataFrame()\n",
    "sibsp[\"Survived Mean\"] = train[[\"SibSp\", \"Survived\"]].groupby([\"SibSp\"], as_index = False).mean()[\"Survived\"]\n",
    "sibsp[\"Count\"] = train[[\"SibSp\", \"Survived\"]].groupby([\"SibSp\"], as_index = False).count()[\"Survived\"]\n",
    "sibsp[\"STD\"] = train[[\"SibSp\", \"Survived\"]].groupby([\"SibSp\"], as_index = False).std()[\"Survived\"]\n",
    "print(sibsp)\n",
    "train[(train[\"SibSp\"] == 5)|(train[\"SibSp\"] == 8)]"
   ]
  },
  {
   "cell_type": "markdown",
   "metadata": {
    "_cell_guid": "e21e89e2-0b3a-40c6-8db9-1652cc9d4a36",
    "_uuid": "62e54360d40986e75a02986e82c2e1ab9a3d017a"
   },
   "source": [
    "- In the next step, we will group \"SibSp\" into [0, 1, 2 or more]\n",
    "- It is surprising that none of the members in the two families with 5 and 8 SibSp survived. Looking at the available \"Age\" data points, it seems that most of them are kids. It would be a good idea to fill in the rest ages as \"teenagers\" or \"kids\". However, there are only 7 records that needs to be filled in in this way so in this analysis, we will not treat them differently. "
   ]
  },
  {
   "cell_type": "markdown",
   "metadata": {
    "_cell_guid": "66df6041-8ffb-4750-8223-8aa9a881b2d6",
    "_uuid": "dd6ec8cd30667ffa2e69fd935380d4f5ee516de3"
   },
   "source": [
    "## 3.4 Parch"
   ]
  },
  {
   "cell_type": "code",
   "execution_count": 10,
   "metadata": {
    "_cell_guid": "6698d603-866d-4708-b49a-efc707260138",
    "_uuid": "c2e61412427e739ff3d751009e86d6ddb57ac53d"
   },
   "outputs": [
    {
     "name": "stdout",
     "output_type": "stream",
     "text": [
      "   Survived Mean  Count       STD\n",
      "0       0.343658    678  0.475279\n",
      "1       0.550847    118  0.499529\n",
      "2       0.500000     80  0.503155\n",
      "3       0.600000      5  0.547723\n",
      "4       0.000000      4  0.000000\n",
      "5       0.200000      5  0.447214\n",
      "6       0.000000      1       NaN\n"
     ]
    },
    {
     "data": {
      "image/png": "[encoded data removed]",
      "text/plain": [
       "<matplotlib.figure.Figure at 0x10aae4f60>"
      ]
     },
     "metadata": {},
     "output_type": "display_data"
    }
   ],
   "source": [
    "# Explore if survival rate depends on the number of parents/children abroad the Titanic\n",
    "sns.barplot(x = \"Parch\", y = \"Survived\", data = train)\n",
    "sibsp[\"Survived Mean\"] = train[[\"Parch\", \"Survived\"]].groupby([\"Parch\"], as_index = False).mean()[\"Survived\"]\n",
    "sibsp[\"Count\"] = train[[\"Parch\", \"Survived\"]].groupby([\"Parch\"], as_index = False).count()[\"Survived\"]\n",
    "sibsp[\"STD\"] = train[[\"Parch\", \"Survived\"]].groupby([\"Parch\"], as_index = False).std()[\"Survived\"]\n",
    "print(sibsp)"
   ]
  },
  {
   "cell_type": "markdown",
   "metadata": {
    "_cell_guid": "3d3c29a8-bc00-4664-8c05-8ba4f73dc261",
    "_uuid": "d9c78586c630c6509208dac25ec7c9aacbe18175"
   },
   "source": [
    "- In the next step, we will group \"Parch\" into [0, 1, 2 or more]"
   ]
  },
  {
   "cell_type": "markdown",
   "metadata": {
    "_cell_guid": "5c399d37-ccf0-4dae-aee9-24ade24f3ba5",
    "_uuid": "524cf03901849babe59994d47e0b6f034cbc3c07"
   },
   "source": [
    "## 3.5 Fare"
   ]
  },
  {
   "cell_type": "code",
   "execution_count": 11,
   "metadata": {
    "_cell_guid": "2e1d15d8-88d1-4ec0-a8ee-46775f7b7c2b",
    "_uuid": "07734e4ea4c2ea193a13546d52feaed7e745e8c3"
   },
   "outputs": [
    {
     "name": "stdout",
     "output_type": "stream",
     "text": [
      "          Fare\n",
      "Survived      \n",
      "0          549\n",
      "1          342\n"
     ]
    },
    {
     "data": {
      "text/html": [
       "<div>\n",
       "<style scoped>\n",
       "    .dataframe tbody tr th:only-of-type {\n",
       "        vertical-align: middle;\n",
       "    }\n",
       "\n",
       "    .dataframe tbody tr th {\n",
       "        vertical-align: top;\n",
       "    }\n",
       "\n",
       "    .dataframe thead th {\n",
       "        text-align: right;\n",
       "    }\n",
       "</style>\n",
       "<table border=\"1\" class=\"dataframe\">\n",
       "  <thead>\n",
       "    <tr style=\"text-align: right;\">\n",
       "      <th></th>\n",
       "      <th>Fare</th>\n",
       "    </tr>\n",
       "    <tr>\n",
       "      <th>Survived</th>\n",
       "      <th></th>\n",
       "    </tr>\n",
       "  </thead>\n",
       "  <tbody>\n",
       "    <tr>\n",
       "      <th>0</th>\n",
       "      <td>10.5</td>\n",
       "    </tr>\n",
       "    <tr>\n",
       "      <th>1</th>\n",
       "      <td>26.0</td>\n",
       "    </tr>\n",
       "  </tbody>\n",
       "</table>\n",
       "</div>"
      ],
      "text/plain": [
       "          Fare\n",
       "Survived      \n",
       "0         10.5\n",
       "1         26.0"
      ]
     },
     "execution_count": 11,
     "metadata": {},
     "output_type": "execute_result"
    },
    {
     "data": {
      "image/png": "[encoded data removed]",
      "text/plain": [
       "<matplotlib.figure.Figure at 0x10a7801d0>"
      ]
     },
     "metadata": {},
     "output_type": "display_data"
    }
   ],
   "source": [
    "# See the distribution of Fare\n",
    "#sns.distplot(train[\"Fare\"][train[\"Pclass\"]==1].dropna(), bins = 10, kde = False)\n",
    "print(train[[\"Fare\", \"Survived\"]].dropna().groupby([\"Survived\"]).count())\n",
    "fare_hist = sns.FacetGrid(train, col=\"Survived\")\n",
    "fare_hist = fare_hist.map(plt.hist, \"Fare\")\n",
    "\n",
    "train[[\"Fare\", \"Survived\"]].dropna().groupby([\"Survived\"]).median()"
   ]
  },
  {
   "cell_type": "markdown",
   "metadata": {
    "_cell_guid": "7ddf2488-eff8-42ab-9623-a66b228a1b33",
    "_uuid": "ff24344dbd256e4a3988c3b9b6b7132d9bb58317"
   },
   "source": [
    "- The outputs above indicate that the distribution of fare for the group who survived and the group who did not is different. So we will include fare in the model.\n",
    "- We will also categorize fare."
   ]
  },
  {
   "cell_type": "markdown",
   "metadata": {
    "_cell_guid": "db73c384-f632-4146-9b67-dcf20c6b76d9",
    "_uuid": "b2c7db3c79ee2d79719d47c44c1bd771d82b3cf8"
   },
   "source": [
    "## 3.6 Cabin"
   ]
  },
  {
   "cell_type": "code",
   "execution_count": 12,
   "metadata": {
    "_cell_guid": "93c12506-a7a6-4f23-a8ac-c3ff56a3298f",
    "_uuid": "f343cf2b42c33b556040784205eb4fa2d1a468e5",
    "scrolled": true
   },
   "outputs": [
    {
     "data": {
      "text/plain": [
       "3.3676470588235294"
      ]
     },
     "execution_count": 12,
     "metadata": {},
     "output_type": "execute_result"
    }
   ],
   "source": [
    "# There are many missing values in this colomn\n",
    "(train[\"Survived\"][train[\"Cabin\"].isnull()].count())/(train[\"Cabin\"].count())"
   ]
  },
  {
   "cell_type": "markdown",
   "metadata": {
    "_cell_guid": "d5827104-c8b8-42af-a484-4eef0de211f7",
    "_uuid": "5448f0174094179e793f53d6a2d3880a3278672a"
   },
   "source": [
    "- Since there are much more missing values than available values, we will leave this variable out from the model."
   ]
  },
  {
   "cell_type": "markdown",
   "metadata": {
    "_cell_guid": "336d68c5-248c-4e89-bc42-44ba5dfa1d98",
    "_uuid": "24e0c6234df896784fbf462d526e8be018e1d643"
   },
   "source": [
    "## 3.7 Embarked"
   ]
  },
  {
   "cell_type": "code",
   "execution_count": 13,
   "metadata": {
    "_cell_guid": "031c1171-7f96-46a7-b10c-63ac1ea1369e",
    "_uuid": "67809fd8f3587a1da45195cfbd4752e8c30430f7"
   },
   "outputs": [
    {
     "data": {
      "text/html": [
       "<div>\n",
       "<style scoped>\n",
       "    .dataframe tbody tr th:only-of-type {\n",
       "        vertical-align: middle;\n",
       "    }\n",
       "\n",
       "    .dataframe tbody tr th {\n",
       "        vertical-align: top;\n",
       "    }\n",
       "\n",
       "    .dataframe thead th {\n",
       "        text-align: right;\n",
       "    }\n",
       "</style>\n",
       "<table border=\"1\" class=\"dataframe\">\n",
       "  <thead>\n",
       "    <tr style=\"text-align: right;\">\n",
       "      <th></th>\n",
       "      <th>Survived</th>\n",
       "    </tr>\n",
       "    <tr>\n",
       "      <th>Embarked</th>\n",
       "      <th></th>\n",
       "    </tr>\n",
       "  </thead>\n",
       "  <tbody>\n",
       "    <tr>\n",
       "      <th>C</th>\n",
       "      <td>0.553571</td>\n",
       "    </tr>\n",
       "    <tr>\n",
       "      <th>Q</th>\n",
       "      <td>0.389610</td>\n",
       "    </tr>\n",
       "    <tr>\n",
       "      <th>S</th>\n",
       "      <td>0.336957</td>\n",
       "    </tr>\n",
       "  </tbody>\n",
       "</table>\n",
       "</div>"
      ],
      "text/plain": [
       "          Survived\n",
       "Embarked          \n",
       "C         0.553571\n",
       "Q         0.389610\n",
       "S         0.336957"
      ]
     },
     "execution_count": 13,
     "metadata": {},
     "output_type": "execute_result"
    },
    {
     "data": {
      "image/png": "[encoded data removed]",
      "text/plain": [
       "<matplotlib.figure.Figure at 0x10a9f8080>"
      ]
     },
     "metadata": {},
     "output_type": "display_data"
    }
   ],
   "source": [
    "# Explore if survival rate depends on the port passenger embarked\n",
    "sns.barplot(x = \"Embarked\", y = \"Survived\", data = train)\n",
    "train[[\"Survived\", \"Embarked\"]].groupby([\"Embarked\"]).mean()"
   ]
  },
  {
   "cell_type": "markdown",
   "metadata": {
    "_cell_guid": "39261fb7-be85-41f0-8877-c85070c8df94",
    "_uuid": "d16bffe521ae7c13d0f91f6505f091f349253be9"
   },
   "source": [
    "- We will keep this variable in our model."
   ]
  },
  {
   "cell_type": "markdown",
   "metadata": {
    "_cell_guid": "dc53960a-1b96-4c2d-bbcc-c9b0401ffdf7",
    "_uuid": "c8a4fa416e49fddc89ac9d66a41555ab507810a4"
   },
   "source": [
    "## Insights from Feature Exploration & Next Steps\n",
    "- Some variables may not have valuable information and can be dropped from the dataset.\n",
    "- Missing values in both the training dataset and testing dataset should be addressed.\n",
    "- Continuous variables should be categorized."
   ]
  },
  {
   "cell_type": "markdown",
   "metadata": {
    "_cell_guid": "d7a9b57a-a507-4bb2-9da8-4126384ba4cb",
    "_uuid": "cc7fc2962acef7bb6967c2eab0aa09356ff2dc70",
    "collapsed": true
   },
   "source": [
    "# 4. Data Manipulation"
   ]
  },
  {
   "cell_type": "markdown",
   "metadata": {
    "_cell_guid": "894aaf5b-108e-4858-b3b5-ea7b4ff6b4c9",
    "_uuid": "af76354722c2a68e55ab9f2378e8d755fd699f65",
    "collapsed": true
   },
   "source": [
    "## 4.1 Dropping Unnecessary Variables\n",
    "\n",
    "From the outputs above, we get a basic sense of the variables and it is intuitive that \"PassengerId\", \"Name\"and \"Ticket\" are not likely to be valuable for the analysis. Therefore, we will drop these variables from both the training and testing dataset. \n",
    "\n",
    "From the summary statistics, we also realize that the column \"cabin\" has too many missing values to draw information from. We will also exclude this column from the datasets."
   ]
  },
  {
   "cell_type": "code",
   "execution_count": 14,
   "metadata": {
    "_cell_guid": "38178bdc-d2c1-4332-9370-eb9c7fff7567",
    "_uuid": "7221ec4516c5bc09f8bb288dc2b2a6cc0f90240d",
    "collapsed": true
   },
   "outputs": [],
   "source": [
    "PassengerId = test['PassengerId']\n",
    "train = train.drop([\"PassengerId\", \"Name\", \"Ticket\", \"Cabin\"], axis = 1)\n",
    "test = test.drop([\"PassengerId\",\"Name\", \"Ticket\", \"Cabin\"], axis = 1)"
   ]
  },
  {
   "cell_type": "code",
   "execution_count": 15,
   "metadata": {
    "_cell_guid": "4ce16fd6-ea77-4ff4-a8f5-c16fef6e5f54",
    "_uuid": "856119fc24971160edd52990a27a6fc6bc508071",
    "collapsed": true
   },
   "outputs": [],
   "source": [
    "#train.info()\n",
    "#print('***************************************************')\n",
    "#test.info()"
   ]
  },
  {
   "cell_type": "markdown",
   "metadata": {
    "_cell_guid": "fdd086a3-b227-4291-b91f-c24336267055",
    "_uuid": "30386a4e85ba80bfba7263814856d990e12ffa35"
   },
   "source": [
    "## 4.2 Dealing with Missing Values\n",
    "\n",
    "There are two variabels with missing values in the training dataset: \"Age\" and \"Embarked\""
   ]
  },
  {
   "cell_type": "markdown",
   "metadata": {
    "_cell_guid": "dd662773-8912-4bd4-8148-d9cc829d8232",
    "_uuid": "dbdad4f6998a115f21db9765ec4f9aacfa5eb9e1",
    "collapsed": true
   },
   "source": [
    " ## *4.2.1 Embarked -- categorical data* \n",
    " \n",
    " ### It's common to replace missing values of a categorical variable with mode. We will find the count for each unique values and replace is with the most appeared value."
   ]
  },
  {
   "cell_type": "code",
   "execution_count": 16,
   "metadata": {
    "_cell_guid": "60c1de71-1e21-46be-bd47-969d63612054",
    "_uuid": "d600bf75aa41c7f4615147418faf5403ca7d9324",
    "scrolled": true
   },
   "outputs": [
    {
     "name": "stdout",
     "output_type": "stream",
     "text": [
      "['S' 'C' 'Q' nan]\n",
      "  Embarked  Survived\n",
      "0        C       168\n",
      "1        Q        77\n",
      "2        S       644\n"
     ]
    },
    {
     "data": {
      "text/html": [
       "<div>\n",
       "<style scoped>\n",
       "    .dataframe tbody tr th:only-of-type {\n",
       "        vertical-align: middle;\n",
       "    }\n",
       "\n",
       "    .dataframe tbody tr th {\n",
       "        vertical-align: top;\n",
       "    }\n",
       "\n",
       "    .dataframe thead th {\n",
       "        text-align: right;\n",
       "    }\n",
       "</style>\n",
       "<table border=\"1\" class=\"dataframe\">\n",
       "  <thead>\n",
       "    <tr style=\"text-align: right;\">\n",
       "      <th></th>\n",
       "      <th>Embarked</th>\n",
       "      <th>Survived</th>\n",
       "    </tr>\n",
       "  </thead>\n",
       "  <tbody>\n",
       "    <tr>\n",
       "      <th>0</th>\n",
       "      <td>C</td>\n",
       "      <td>168</td>\n",
       "    </tr>\n",
       "    <tr>\n",
       "      <th>1</th>\n",
       "      <td>Q</td>\n",
       "      <td>77</td>\n",
       "    </tr>\n",
       "    <tr>\n",
       "      <th>2</th>\n",
       "      <td>S</td>\n",
       "      <td>646</td>\n",
       "    </tr>\n",
       "  </tbody>\n",
       "</table>\n",
       "</div>"
      ],
      "text/plain": [
       "  Embarked  Survived\n",
       "0        C       168\n",
       "1        Q        77\n",
       "2        S       646"
      ]
     },
     "execution_count": 16,
     "metadata": {},
     "output_type": "execute_result"
    }
   ],
   "source": [
    "print(train[\"Embarked\"].unique())\n",
    "print(train.groupby([\"Embarked\"])[\"Survived\"].count().reset_index())\n",
    "train[\"Embarked\"] = train[\"Embarked\"].fillna(\"S\")\n",
    "train.groupby([\"Embarked\"])[\"Survived\"].count().reset_index()"
   ]
  },
  {
   "cell_type": "markdown",
   "metadata": {
    "_cell_guid": "c2349fa0-4e1b-4297-a58d-a539951e016e",
    "_uuid": "8929cf9e82d1803fd8d4bab08d7d7be4669eda4c"
   },
   "source": [
    "## *4.2.2 Age*\n",
    "\n",
    "### About 20% of the \"Age\" column is missing. As inspied by *A Journey through Titanic*, we will replace missing values with random numbers between (mean - std) and (mean + std)"
   ]
  },
  {
   "cell_type": "code",
   "execution_count": 17,
   "metadata": {
    "_cell_guid": "88750c9d-64a8-448d-af4a-be1fb6f3e3e5",
    "_uuid": "6f833b3910636d62efe3eb4244275a158cf90730"
   },
   "outputs": [
    {
     "name": "stderr",
     "output_type": "stream",
     "text": [
      "/Library/Frameworks/Python.framework/Versions/3.6/lib/python3.6/site-packages/ipykernel_launcher.py:17: SettingWithCopyWarning: \n",
      "A value is trying to be set on a copy of a slice from a DataFrame\n",
      "\n",
      "See the caveats in the documentation: http://pandas.pydata.org/pandas-docs/stable/indexing.html#indexing-view-versus-copy\n",
      "/Library/Frameworks/Python.framework/Versions/3.6/lib/python3.6/site-packages/ipykernel_launcher.py:18: SettingWithCopyWarning: \n",
      "A value is trying to be set on a copy of a slice from a DataFrame\n",
      "\n",
      "See the caveats in the documentation: http://pandas.pydata.org/pandas-docs/stable/indexing.html#indexing-view-versus-copy\n"
     ]
    }
   ],
   "source": [
    "# Calculate mean and standard deviation of \"Age\" column\n",
    "train_mean = train[\"Age\"].mean()\n",
    "train_std = train[\"Age\"].std()\n",
    "test_mean = test[\"Age\"].mean()\n",
    "test_std = test[\"Age\"].std()\n",
    "\n",
    "# Count missing values\n",
    "count_na_train = train[\"Age\"].isnull().sum()\n",
    "count_na_test = test[\"Age\"].isnull().sum()\n",
    "\n",
    "# generate random numbers\n",
    "np.random.seed(66)\n",
    "train_rand = np.random.randint(train_mean - train_std, train_mean + train_std, size = count_na_train)\n",
    "test_rand = np.random.randint(test_mean - test_std, test_mean + test_std, size = count_na_test)\n",
    "\n",
    "# Fill missing values with random numbers\n",
    "train[\"Age\"][np.isnan(train[\"Age\"])] = train_rand\n",
    "test[\"Age\"][np.isnan(test[\"Age\"])] = test_rand\n",
    "\n",
    "# Convert into int\n",
    "train[\"Age\"] = train[\"Age\"].astype(int)\n",
    "test[\"Age\"] = test[\"Age\"].astype(int)\n"
   ]
  },
  {
   "cell_type": "markdown",
   "metadata": {
    "_cell_guid": "89e4ff83-d669-4405-93da-79374a0b45b8",
    "_uuid": "53a7ff2038de700501ada47ba6e05afe2620f873"
   },
   "source": [
    "## *4.2.3 Fare*\n",
    "\n",
    "### There is one missing value for fare in the test data. We will simply replace it with the median"
   ]
  },
  {
   "cell_type": "code",
   "execution_count": 18,
   "metadata": {
    "_cell_guid": "03ec0afd-0dcd-40f9-9ef5-a823548ee94a",
    "_uuid": "dd684aaa618d7a19f8a644bc65cf16eac2c52530",
    "collapsed": true
   },
   "outputs": [],
   "source": [
    "test[\"Fare\"] = test[\"Fare\"].fillna(test[\"Fare\"].median())"
   ]
  },
  {
   "cell_type": "code",
   "execution_count": 19,
   "metadata": {
    "_cell_guid": "78055fbe-9384-49e6-a62b-1d884c2a157f",
    "_uuid": "79198c77c55e2ad1433fd9f707dd1e404cf34938",
    "collapsed": true,
    "scrolled": false
   },
   "outputs": [],
   "source": [
    "# Confirm that all missing values are taken care of\n",
    "#train.info()\n",
    "#print('***************************************************')\n",
    "#test.info()"
   ]
  },
  {
   "cell_type": "markdown",
   "metadata": {
    "_cell_guid": "ea616b86-ce91-4cac-bd78-a6428052d1bf",
    "_uuid": "d87c10fac934a012f32eecf8e39ad796d83acbaf"
   },
   "source": [
    "## 4.3 Categorize Numeric Values"
   ]
  },
  {
   "cell_type": "markdown",
   "metadata": {
    "_cell_guid": "19b095df-e109-4f44-abb3-dde3b4be4f3f",
    "_uuid": "2ea4284b8093d2de6f2438f3618f8a51d17f5c0a"
   },
   "source": [
    "## 4.3.1 Age"
   ]
  },
  {
   "cell_type": "code",
   "execution_count": 20,
   "metadata": {
    "_cell_guid": "e8a8fc6f-1d42-481a-9818-ade470f77635",
    "_uuid": "e6714e175407f6cc96591af0a7a1fa50a302f350"
   },
   "outputs": [
    {
     "data": {
      "text/html": [
       "<div>\n",
       "<style scoped>\n",
       "    .dataframe tbody tr th:only-of-type {\n",
       "        vertical-align: middle;\n",
       "    }\n",
       "\n",
       "    .dataframe tbody tr th {\n",
       "        vertical-align: top;\n",
       "    }\n",
       "\n",
       "    .dataframe thead th {\n",
       "        text-align: right;\n",
       "    }\n",
       "</style>\n",
       "<table border=\"1\" class=\"dataframe\">\n",
       "  <thead>\n",
       "    <tr style=\"text-align: right;\">\n",
       "      <th></th>\n",
       "      <th>Survived</th>\n",
       "    </tr>\n",
       "    <tr>\n",
       "      <th>age_c</th>\n",
       "      <th></th>\n",
       "    </tr>\n",
       "  </thead>\n",
       "  <tbody>\n",
       "    <tr>\n",
       "      <th>Adult</th>\n",
       "      <td>0.391209</td>\n",
       "    </tr>\n",
       "    <tr>\n",
       "      <th>Infant &amp; Toddler</th>\n",
       "      <td>0.666667</td>\n",
       "    </tr>\n",
       "    <tr>\n",
       "      <th>Middle-aged</th>\n",
       "      <td>0.375000</td>\n",
       "    </tr>\n",
       "    <tr>\n",
       "      <th>Senior</th>\n",
       "      <td>0.125000</td>\n",
       "    </tr>\n",
       "    <tr>\n",
       "      <th>Teenager</th>\n",
       "      <td>0.400000</td>\n",
       "    </tr>\n",
       "    <tr>\n",
       "      <th>Young Adult</th>\n",
       "      <td>0.307692</td>\n",
       "    </tr>\n",
       "    <tr>\n",
       "      <th>Young Teenage</th>\n",
       "      <td>0.512821</td>\n",
       "    </tr>\n",
       "  </tbody>\n",
       "</table>\n",
       "</div>"
      ],
      "text/plain": [
       "                  Survived\n",
       "age_c                     \n",
       "Adult             0.391209\n",
       "Infant & Toddler  0.666667\n",
       "Middle-aged       0.375000\n",
       "Senior            0.125000\n",
       "Teenager          0.400000\n",
       "Young Adult       0.307692\n",
       "Young Teenage     0.512821"
      ]
     },
     "execution_count": 20,
     "metadata": {},
     "output_type": "execute_result"
    }
   ],
   "source": [
    "# Map Age to categorical groups\n",
    "train.loc[train[\"Age\"] <= 3, \"age_c\"] = \"Infant & Toddler\"\n",
    "train.loc[(train[\"Age\"] > 3)&(train[\"Age\"] <= 12), \"age_c\"] = \"Young Teenage\"\n",
    "train.loc[(train[\"Age\"] <= 18)&(train[\"Age\"] > 12), \"age_c\"] = \"Teenager\"\n",
    "train.loc[(train[\"Age\"] > 18)&(train[\"Age\"] <= 25), \"age_c\"] = \"Young Adult\"\n",
    "train.loc[(train[\"Age\"] <= 50)&(train[\"Age\"] > 25), \"age_c\"] = \"Adult\"\n",
    "train.loc[(train[\"Age\"] > 50)&(train[\"Age\"] <= 65), \"age_c\"] = \"Middle-aged\"\n",
    "train.loc[(train[\"Age\"] > 65), \"age_c\"] = \"Senior\"\n",
    "\n",
    "test.loc[test[\"Age\"] <= 3, \"age_c\"] = \"Infant & Toddler\"\n",
    "test.loc[(test[\"Age\"] > 3)&(test[\"Age\"] <= 12), \"age_c\"] = \"Young Teenage\"\n",
    "test.loc[(test[\"Age\"] <= 18)&(test[\"Age\"] > 12), \"age_c\"] = \"Teenager\"\n",
    "test.loc[(test[\"Age\"] > 18)&(test[\"Age\"] <= 25), \"age_c\"] = \"Young Adult\"\n",
    "test.loc[(test[\"Age\"] <= 50)&(test[\"Age\"] > 25), \"age_c\"] = \"Adult\"\n",
    "test.loc[(test[\"Age\"] > 50)&(test[\"Age\"] <= 65), \"age_c\"] = \"Middle-aged\"\n",
    "test.loc[(test[\"Age\"] > 65), \"age_c\"] = \"Senior\"\n",
    "\n",
    "train[[\"age_c\",\"Survived\"]].groupby([\"age_c\"]).mean()"
   ]
  },
  {
   "cell_type": "code",
   "execution_count": 21,
   "metadata": {
    "_uuid": "927b41de71618e2e5fdca8cfbd49ff5a248667c7",
    "collapsed": true
   },
   "outputs": [],
   "source": [
    "# set up two new dataframes for the final model\n",
    "m_train = train\n",
    "m_test = test\n",
    "\n",
    "#m_train.info()\n",
    "#print('***************************************************')\n",
    "#m_test.info()"
   ]
  },
  {
   "cell_type": "code",
   "execution_count": 22,
   "metadata": {
    "_cell_guid": "fbc60848-6e5b-4d95-9940-d810ea20bb98",
    "_uuid": "2c3219d23656fb27b5c689535b7179f706f8aee9"
   },
   "outputs": [
    {
     "data": {
      "text/html": [
       "<div>\n",
       "<style scoped>\n",
       "    .dataframe tbody tr th:only-of-type {\n",
       "        vertical-align: middle;\n",
       "    }\n",
       "\n",
       "    .dataframe tbody tr th {\n",
       "        vertical-align: top;\n",
       "    }\n",
       "\n",
       "    .dataframe thead th {\n",
       "        text-align: right;\n",
       "    }\n",
       "</style>\n",
       "<table border=\"1\" class=\"dataframe\">\n",
       "  <thead>\n",
       "    <tr style=\"text-align: right;\">\n",
       "      <th></th>\n",
       "      <th>Survived</th>\n",
       "      <th>Pclass</th>\n",
       "      <th>Sex</th>\n",
       "      <th>SibSp</th>\n",
       "      <th>Parch</th>\n",
       "      <th>Fare</th>\n",
       "      <th>Embarked</th>\n",
       "      <th>Infant &amp; Toddler</th>\n",
       "      <th>Middle-aged</th>\n",
       "      <th>Senior</th>\n",
       "      <th>Teenager</th>\n",
       "      <th>Young Adult</th>\n",
       "      <th>Young Teenage</th>\n",
       "    </tr>\n",
       "  </thead>\n",
       "  <tbody>\n",
       "    <tr>\n",
       "      <th>64</th>\n",
       "      <td>0</td>\n",
       "      <td>1</td>\n",
       "      <td>male</td>\n",
       "      <td>0</td>\n",
       "      <td>0</td>\n",
       "      <td>27.7208</td>\n",
       "      <td>C</td>\n",
       "      <td>0</td>\n",
       "      <td>0</td>\n",
       "      <td>0</td>\n",
       "      <td>0</td>\n",
       "      <td>0</td>\n",
       "      <td>0</td>\n",
       "    </tr>\n",
       "    <tr>\n",
       "      <th>141</th>\n",
       "      <td>1</td>\n",
       "      <td>3</td>\n",
       "      <td>female</td>\n",
       "      <td>0</td>\n",
       "      <td>0</td>\n",
       "      <td>7.7500</td>\n",
       "      <td>S</td>\n",
       "      <td>0</td>\n",
       "      <td>0</td>\n",
       "      <td>0</td>\n",
       "      <td>0</td>\n",
       "      <td>1</td>\n",
       "      <td>0</td>\n",
       "    </tr>\n",
       "    <tr>\n",
       "      <th>488</th>\n",
       "      <td>0</td>\n",
       "      <td>3</td>\n",
       "      <td>male</td>\n",
       "      <td>0</td>\n",
       "      <td>0</td>\n",
       "      <td>8.0500</td>\n",
       "      <td>S</td>\n",
       "      <td>0</td>\n",
       "      <td>0</td>\n",
       "      <td>0</td>\n",
       "      <td>0</td>\n",
       "      <td>0</td>\n",
       "      <td>0</td>\n",
       "    </tr>\n",
       "    <tr>\n",
       "      <th>336</th>\n",
       "      <td>0</td>\n",
       "      <td>1</td>\n",
       "      <td>male</td>\n",
       "      <td>1</td>\n",
       "      <td>0</td>\n",
       "      <td>66.6000</td>\n",
       "      <td>S</td>\n",
       "      <td>0</td>\n",
       "      <td>0</td>\n",
       "      <td>0</td>\n",
       "      <td>0</td>\n",
       "      <td>0</td>\n",
       "      <td>0</td>\n",
       "    </tr>\n",
       "    <tr>\n",
       "      <th>127</th>\n",
       "      <td>1</td>\n",
       "      <td>3</td>\n",
       "      <td>male</td>\n",
       "      <td>0</td>\n",
       "      <td>0</td>\n",
       "      <td>7.1417</td>\n",
       "      <td>S</td>\n",
       "      <td>0</td>\n",
       "      <td>0</td>\n",
       "      <td>0</td>\n",
       "      <td>0</td>\n",
       "      <td>1</td>\n",
       "      <td>0</td>\n",
       "    </tr>\n",
       "  </tbody>\n",
       "</table>\n",
       "</div>"
      ],
      "text/plain": [
       "     Survived  Pclass     Sex  SibSp  Parch     Fare Embarked  \\\n",
       "64          0       1    male      0      0  27.7208        C   \n",
       "141         1       3  female      0      0   7.7500        S   \n",
       "488         0       3    male      0      0   8.0500        S   \n",
       "336         0       1    male      1      0  66.6000        S   \n",
       "127         1       3    male      0      0   7.1417        S   \n",
       "\n",
       "     Infant & Toddler  Middle-aged  Senior  Teenager  Young Adult  \\\n",
       "64                  0            0       0         0            0   \n",
       "141                 0            0       0         0            1   \n",
       "488                 0            0       0         0            0   \n",
       "336                 0            0       0         0            0   \n",
       "127                 0            0       0         0            1   \n",
       "\n",
       "     Young Teenage  \n",
       "64               0  \n",
       "141              0  \n",
       "488              0  \n",
       "336              0  \n",
       "127              0  "
      ]
     },
     "execution_count": 22,
     "metadata": {},
     "output_type": "execute_result"
    }
   ],
   "source": [
    "# Generate Dummy Variable for Age\n",
    "# Dropped the first one to avoid multicollinearity\n",
    "age_dummy_train = pd.get_dummies(train[\"age_c\"], drop_first = True)\n",
    "age_dummy_test = pd.get_dummies(test[\"age_c\"], drop_first = True)\n",
    "\n",
    "# Concatenate Age dummy with the original training dataset\n",
    "m_train = pd.concat([m_train, age_dummy_train], axis = 1)\n",
    "m_test = pd.concat([m_test, age_dummy_test], axis = 1)\n",
    "\n",
    "# Drop original Age and age_c\n",
    "m_train = m_train.drop([\"age_c\", \"Age\"], axis = 1)\n",
    "m_test = m_test.drop([\"age_c\", \"Age\"], axis = 1)\n",
    "\n",
    "m_train.sample(5)"
   ]
  },
  {
   "cell_type": "markdown",
   "metadata": {
    "_cell_guid": "238c212f-8d04-49f3-8ee7-d645f7aca22e",
    "_uuid": "f6ef8e1bb10c2992e9398b2725292c42a5151c8c",
    "collapsed": true
   },
   "source": [
    "## 4.3.2 SibSp\n",
    "\n",
    "Categorize into 0,1,2 or more"
   ]
  },
  {
   "cell_type": "code",
   "execution_count": 23,
   "metadata": {
    "_uuid": "8645a04a76ac1294e41789c9377140a5a04b3f55"
   },
   "outputs": [
    {
     "data": {
      "text/html": [
       "<div>\n",
       "<style scoped>\n",
       "    .dataframe tbody tr th:only-of-type {\n",
       "        vertical-align: middle;\n",
       "    }\n",
       "\n",
       "    .dataframe tbody tr th {\n",
       "        vertical-align: top;\n",
       "    }\n",
       "\n",
       "    .dataframe thead th {\n",
       "        text-align: right;\n",
       "    }\n",
       "</style>\n",
       "<table border=\"1\" class=\"dataframe\">\n",
       "  <thead>\n",
       "    <tr style=\"text-align: right;\">\n",
       "      <th></th>\n",
       "      <th>Survived</th>\n",
       "      <th>Pclass</th>\n",
       "      <th>Sex</th>\n",
       "      <th>Parch</th>\n",
       "      <th>Fare</th>\n",
       "      <th>Embarked</th>\n",
       "      <th>Infant &amp; Toddler</th>\n",
       "      <th>Middle-aged</th>\n",
       "      <th>Senior</th>\n",
       "      <th>Teenager</th>\n",
       "      <th>Young Adult</th>\n",
       "      <th>Young Teenage</th>\n",
       "      <th>None</th>\n",
       "      <th>One</th>\n",
       "    </tr>\n",
       "  </thead>\n",
       "  <tbody>\n",
       "    <tr>\n",
       "      <th>24</th>\n",
       "      <td>0</td>\n",
       "      <td>3</td>\n",
       "      <td>female</td>\n",
       "      <td>1</td>\n",
       "      <td>21.0750</td>\n",
       "      <td>S</td>\n",
       "      <td>0</td>\n",
       "      <td>0</td>\n",
       "      <td>0</td>\n",
       "      <td>0</td>\n",
       "      <td>0</td>\n",
       "      <td>1</td>\n",
       "      <td>0</td>\n",
       "      <td>0</td>\n",
       "    </tr>\n",
       "    <tr>\n",
       "      <th>426</th>\n",
       "      <td>1</td>\n",
       "      <td>2</td>\n",
       "      <td>female</td>\n",
       "      <td>0</td>\n",
       "      <td>26.0000</td>\n",
       "      <td>S</td>\n",
       "      <td>0</td>\n",
       "      <td>0</td>\n",
       "      <td>0</td>\n",
       "      <td>0</td>\n",
       "      <td>0</td>\n",
       "      <td>0</td>\n",
       "      <td>0</td>\n",
       "      <td>1</td>\n",
       "    </tr>\n",
       "    <tr>\n",
       "      <th>849</th>\n",
       "      <td>1</td>\n",
       "      <td>1</td>\n",
       "      <td>female</td>\n",
       "      <td>0</td>\n",
       "      <td>89.1042</td>\n",
       "      <td>C</td>\n",
       "      <td>0</td>\n",
       "      <td>0</td>\n",
       "      <td>0</td>\n",
       "      <td>0</td>\n",
       "      <td>1</td>\n",
       "      <td>0</td>\n",
       "      <td>0</td>\n",
       "      <td>1</td>\n",
       "    </tr>\n",
       "    <tr>\n",
       "      <th>302</th>\n",
       "      <td>0</td>\n",
       "      <td>3</td>\n",
       "      <td>male</td>\n",
       "      <td>0</td>\n",
       "      <td>0.0000</td>\n",
       "      <td>S</td>\n",
       "      <td>0</td>\n",
       "      <td>0</td>\n",
       "      <td>0</td>\n",
       "      <td>0</td>\n",
       "      <td>1</td>\n",
       "      <td>0</td>\n",
       "      <td>1</td>\n",
       "      <td>0</td>\n",
       "    </tr>\n",
       "    <tr>\n",
       "      <th>474</th>\n",
       "      <td>0</td>\n",
       "      <td>3</td>\n",
       "      <td>female</td>\n",
       "      <td>0</td>\n",
       "      <td>9.8375</td>\n",
       "      <td>S</td>\n",
       "      <td>0</td>\n",
       "      <td>0</td>\n",
       "      <td>0</td>\n",
       "      <td>0</td>\n",
       "      <td>1</td>\n",
       "      <td>0</td>\n",
       "      <td>1</td>\n",
       "      <td>0</td>\n",
       "    </tr>\n",
       "  </tbody>\n",
       "</table>\n",
       "</div>"
      ],
      "text/plain": [
       "     Survived  Pclass     Sex  Parch     Fare Embarked  Infant & Toddler  \\\n",
       "24          0       3  female      1  21.0750        S                 0   \n",
       "426         1       2  female      0  26.0000        S                 0   \n",
       "849         1       1  female      0  89.1042        C                 0   \n",
       "302         0       3    male      0   0.0000        S                 0   \n",
       "474         0       3  female      0   9.8375        S                 0   \n",
       "\n",
       "     Middle-aged  Senior  Teenager  Young Adult  Young Teenage  None  One  \n",
       "24             0       0         0            0              1     0    0  \n",
       "426            0       0         0            0              0     0    1  \n",
       "849            0       0         0            1              0     0    1  \n",
       "302            0       0         0            1              0     1    0  \n",
       "474            0       0         0            1              0     1    0  "
      ]
     },
     "execution_count": 23,
     "metadata": {},
     "output_type": "execute_result"
    }
   ],
   "source": [
    "# Map SibSp into categories\n",
    "train.loc[train[\"SibSp\"] == 0, \"sib_c\"] = \"None\"\n",
    "train.loc[train[\"SibSp\"] == 1, \"sib_c\"] = \"One\"\n",
    "train.loc[train[\"SibSp\"] >1 , \"sib_c\"] = \"2 or More\"\n",
    "\n",
    "test.loc[test[\"SibSp\"] == 0, \"sib_c\"] = \"None\"\n",
    "test.loc[test[\"SibSp\"] == 1, \"sib_c\"] = \"One\"\n",
    "test.loc[test[\"SibSp\"] >1 , \"sib_c\"] = \"2 or More\"\n",
    "\n",
    "# Generate Dummy Variable\n",
    "sib_dummy_train = pd.get_dummies(train[\"sib_c\"], drop_first = True)\n",
    "sib_dummy_test = pd.get_dummies(test[\"sib_c\"], drop_first = True)\n",
    "\n",
    "\n",
    "# Append sib_dummy to m-train\n",
    "m_train = pd.concat([m_train, sib_dummy_train], axis = 1)\n",
    "m_train = m_train.drop([\"SibSp\"], axis = 1)\n",
    "\n",
    "m_test = pd.concat([m_test, sib_dummy_test], axis = 1)\n",
    "m_test = m_test.drop([\"SibSp\"], axis = 1)\n",
    "\n",
    "m_train.sample(5)"
   ]
  },
  {
   "cell_type": "markdown",
   "metadata": {
    "_uuid": "61de721af7c089f53bcfd52d0c0057b833aa3dbc"
   },
   "source": [
    "## 4.3.3 Parch\n",
    "\n",
    "Categorize into 0,1, 2 and more"
   ]
  },
  {
   "cell_type": "code",
   "execution_count": 24,
   "metadata": {
    "_uuid": "4d36a9de288fceada727848fbd0471f77a4d3c63"
   },
   "outputs": [
    {
     "data": {
      "text/html": [
       "<div>\n",
       "<style scoped>\n",
       "    .dataframe tbody tr th:only-of-type {\n",
       "        vertical-align: middle;\n",
       "    }\n",
       "\n",
       "    .dataframe tbody tr th {\n",
       "        vertical-align: top;\n",
       "    }\n",
       "\n",
       "    .dataframe thead th {\n",
       "        text-align: right;\n",
       "    }\n",
       "</style>\n",
       "<table border=\"1\" class=\"dataframe\">\n",
       "  <thead>\n",
       "    <tr style=\"text-align: right;\">\n",
       "      <th></th>\n",
       "      <th>Survived</th>\n",
       "      <th>Pclass</th>\n",
       "      <th>Sex</th>\n",
       "      <th>Fare</th>\n",
       "      <th>Embarked</th>\n",
       "      <th>Infant &amp; Toddler</th>\n",
       "      <th>Middle-aged</th>\n",
       "      <th>Senior</th>\n",
       "      <th>Teenager</th>\n",
       "      <th>Young Adult</th>\n",
       "      <th>Young Teenage</th>\n",
       "      <th>None</th>\n",
       "      <th>One</th>\n",
       "      <th>None_pc</th>\n",
       "      <th>One_pc</th>\n",
       "    </tr>\n",
       "  </thead>\n",
       "  <tbody>\n",
       "    <tr>\n",
       "      <th>766</th>\n",
       "      <td>0</td>\n",
       "      <td>1</td>\n",
       "      <td>male</td>\n",
       "      <td>39.6000</td>\n",
       "      <td>C</td>\n",
       "      <td>0</td>\n",
       "      <td>0</td>\n",
       "      <td>0</td>\n",
       "      <td>0</td>\n",
       "      <td>0</td>\n",
       "      <td>0</td>\n",
       "      <td>1</td>\n",
       "      <td>0</td>\n",
       "      <td>1</td>\n",
       "      <td>0</td>\n",
       "    </tr>\n",
       "    <tr>\n",
       "      <th>889</th>\n",
       "      <td>1</td>\n",
       "      <td>1</td>\n",
       "      <td>male</td>\n",
       "      <td>30.0000</td>\n",
       "      <td>C</td>\n",
       "      <td>0</td>\n",
       "      <td>0</td>\n",
       "      <td>0</td>\n",
       "      <td>0</td>\n",
       "      <td>0</td>\n",
       "      <td>0</td>\n",
       "      <td>1</td>\n",
       "      <td>0</td>\n",
       "      <td>1</td>\n",
       "      <td>0</td>\n",
       "    </tr>\n",
       "    <tr>\n",
       "      <th>752</th>\n",
       "      <td>0</td>\n",
       "      <td>3</td>\n",
       "      <td>male</td>\n",
       "      <td>9.5000</td>\n",
       "      <td>S</td>\n",
       "      <td>0</td>\n",
       "      <td>0</td>\n",
       "      <td>0</td>\n",
       "      <td>0</td>\n",
       "      <td>0</td>\n",
       "      <td>0</td>\n",
       "      <td>1</td>\n",
       "      <td>0</td>\n",
       "      <td>1</td>\n",
       "      <td>0</td>\n",
       "    </tr>\n",
       "    <tr>\n",
       "      <th>65</th>\n",
       "      <td>1</td>\n",
       "      <td>3</td>\n",
       "      <td>male</td>\n",
       "      <td>15.2458</td>\n",
       "      <td>C</td>\n",
       "      <td>0</td>\n",
       "      <td>0</td>\n",
       "      <td>0</td>\n",
       "      <td>0</td>\n",
       "      <td>0</td>\n",
       "      <td>0</td>\n",
       "      <td>0</td>\n",
       "      <td>1</td>\n",
       "      <td>0</td>\n",
       "      <td>1</td>\n",
       "    </tr>\n",
       "    <tr>\n",
       "      <th>103</th>\n",
       "      <td>0</td>\n",
       "      <td>3</td>\n",
       "      <td>male</td>\n",
       "      <td>8.6542</td>\n",
       "      <td>S</td>\n",
       "      <td>0</td>\n",
       "      <td>0</td>\n",
       "      <td>0</td>\n",
       "      <td>0</td>\n",
       "      <td>0</td>\n",
       "      <td>0</td>\n",
       "      <td>1</td>\n",
       "      <td>0</td>\n",
       "      <td>1</td>\n",
       "      <td>0</td>\n",
       "    </tr>\n",
       "  </tbody>\n",
       "</table>\n",
       "</div>"
      ],
      "text/plain": [
       "     Survived  Pclass   Sex     Fare Embarked  Infant & Toddler  Middle-aged  \\\n",
       "766         0       1  male  39.6000        C                 0            0   \n",
       "889         1       1  male  30.0000        C                 0            0   \n",
       "752         0       3  male   9.5000        S                 0            0   \n",
       "65          1       3  male  15.2458        C                 0            0   \n",
       "103         0       3  male   8.6542        S                 0            0   \n",
       "\n",
       "     Senior  Teenager  Young Adult  Young Teenage  None  One  None_pc  One_pc  \n",
       "766       0         0            0              0     1    0        1       0  \n",
       "889       0         0            0              0     1    0        1       0  \n",
       "752       0         0            0              0     1    0        1       0  \n",
       "65        0         0            0              0     0    1        0       1  \n",
       "103       0         0            0              0     1    0        1       0  "
      ]
     },
     "execution_count": 24,
     "metadata": {},
     "output_type": "execute_result"
    }
   ],
   "source": [
    "# Map Parch into categories\n",
    "train.loc[train[\"Parch\"] == 0, \"pc_c\"] = \"None_pc\"\n",
    "train.loc[train[\"Parch\"] == 1, \"pc_c\"] = \"One_pc\"\n",
    "train.loc[train[\"Parch\"] >1 , \"pc_c\"] = \"2 or More_pc\"\n",
    "\n",
    "test.loc[test[\"Parch\"] == 0, \"pc_c\"] = \"None_pc\"\n",
    "test.loc[test[\"Parch\"] == 1, \"pc_c\"] = \"One_pc\"\n",
    "test.loc[test[\"Parch\"] >1 , \"pc_c\"] = \"2 or More_pc\"\n",
    "\n",
    "# Generate Dummy Variable\n",
    "pc_dummy_train = pd.get_dummies(train[\"pc_c\"], drop_first = True)\n",
    "pc_dummy_test = pd.get_dummies(test[\"pc_c\"], drop_first = True)\n",
    "\n",
    "\n",
    "# Append sib_dummy to m-train/m-test\n",
    "m_train = pd.concat([m_train, pc_dummy_train], axis = 1)\n",
    "m_train = m_train.drop([\"Parch\"], axis = 1)\n",
    "\n",
    "m_test = pd.concat([m_test, pc_dummy_test], axis = 1)\n",
    "m_test = m_test.drop([\"Parch\"], axis = 1)\n",
    "\n",
    "m_train.sample(5)"
   ]
  },
  {
   "cell_type": "markdown",
   "metadata": {
    "_uuid": "c6fb0da7d398e4039d4f96acac24389dfd82c416"
   },
   "source": [
    "## 4.3.4 Fare"
   ]
  },
  {
   "cell_type": "code",
   "execution_count": 25,
   "metadata": {
    "_uuid": "ec759d3576071be1e5509d0f20203488c422bcd8"
   },
   "outputs": [
    {
     "data": {
      "text/html": [
       "<div>\n",
       "<style scoped>\n",
       "    .dataframe tbody tr th:only-of-type {\n",
       "        vertical-align: middle;\n",
       "    }\n",
       "\n",
       "    .dataframe tbody tr th {\n",
       "        vertical-align: top;\n",
       "    }\n",
       "\n",
       "    .dataframe thead th {\n",
       "        text-align: right;\n",
       "    }\n",
       "</style>\n",
       "<table border=\"1\" class=\"dataframe\">\n",
       "  <thead>\n",
       "    <tr style=\"text-align: right;\">\n",
       "      <th></th>\n",
       "      <th>Survived</th>\n",
       "      <th>Pclass</th>\n",
       "      <th>Sex</th>\n",
       "      <th>Embarked</th>\n",
       "      <th>Infant &amp; Toddler</th>\n",
       "      <th>Middle-aged</th>\n",
       "      <th>Senior</th>\n",
       "      <th>Teenager</th>\n",
       "      <th>Young Adult</th>\n",
       "      <th>Young Teenage</th>\n",
       "      <th>None</th>\n",
       "      <th>One</th>\n",
       "      <th>None_pc</th>\n",
       "      <th>One_pc</th>\n",
       "      <th>fare50%</th>\n",
       "      <th>fare75%</th>\n",
       "      <th>fare100%</th>\n",
       "    </tr>\n",
       "  </thead>\n",
       "  <tbody>\n",
       "    <tr>\n",
       "      <th>139</th>\n",
       "      <td>0</td>\n",
       "      <td>1</td>\n",
       "      <td>male</td>\n",
       "      <td>C</td>\n",
       "      <td>0</td>\n",
       "      <td>0</td>\n",
       "      <td>0</td>\n",
       "      <td>0</td>\n",
       "      <td>1</td>\n",
       "      <td>0</td>\n",
       "      <td>1</td>\n",
       "      <td>0</td>\n",
       "      <td>1</td>\n",
       "      <td>0</td>\n",
       "      <td>0</td>\n",
       "      <td>0</td>\n",
       "      <td>1</td>\n",
       "    </tr>\n",
       "    <tr>\n",
       "      <th>140</th>\n",
       "      <td>0</td>\n",
       "      <td>3</td>\n",
       "      <td>female</td>\n",
       "      <td>C</td>\n",
       "      <td>0</td>\n",
       "      <td>0</td>\n",
       "      <td>0</td>\n",
       "      <td>0</td>\n",
       "      <td>0</td>\n",
       "      <td>0</td>\n",
       "      <td>1</td>\n",
       "      <td>0</td>\n",
       "      <td>0</td>\n",
       "      <td>0</td>\n",
       "      <td>0</td>\n",
       "      <td>1</td>\n",
       "      <td>0</td>\n",
       "    </tr>\n",
       "    <tr>\n",
       "      <th>832</th>\n",
       "      <td>0</td>\n",
       "      <td>3</td>\n",
       "      <td>male</td>\n",
       "      <td>C</td>\n",
       "      <td>0</td>\n",
       "      <td>0</td>\n",
       "      <td>0</td>\n",
       "      <td>0</td>\n",
       "      <td>0</td>\n",
       "      <td>0</td>\n",
       "      <td>1</td>\n",
       "      <td>0</td>\n",
       "      <td>1</td>\n",
       "      <td>0</td>\n",
       "      <td>0</td>\n",
       "      <td>0</td>\n",
       "      <td>0</td>\n",
       "    </tr>\n",
       "    <tr>\n",
       "      <th>305</th>\n",
       "      <td>1</td>\n",
       "      <td>1</td>\n",
       "      <td>male</td>\n",
       "      <td>S</td>\n",
       "      <td>1</td>\n",
       "      <td>0</td>\n",
       "      <td>0</td>\n",
       "      <td>0</td>\n",
       "      <td>0</td>\n",
       "      <td>0</td>\n",
       "      <td>0</td>\n",
       "      <td>1</td>\n",
       "      <td>0</td>\n",
       "      <td>0</td>\n",
       "      <td>0</td>\n",
       "      <td>0</td>\n",
       "      <td>1</td>\n",
       "    </tr>\n",
       "    <tr>\n",
       "      <th>747</th>\n",
       "      <td>1</td>\n",
       "      <td>2</td>\n",
       "      <td>female</td>\n",
       "      <td>S</td>\n",
       "      <td>0</td>\n",
       "      <td>0</td>\n",
       "      <td>0</td>\n",
       "      <td>0</td>\n",
       "      <td>0</td>\n",
       "      <td>0</td>\n",
       "      <td>1</td>\n",
       "      <td>0</td>\n",
       "      <td>1</td>\n",
       "      <td>0</td>\n",
       "      <td>1</td>\n",
       "      <td>0</td>\n",
       "      <td>0</td>\n",
       "    </tr>\n",
       "  </tbody>\n",
       "</table>\n",
       "</div>"
      ],
      "text/plain": [
       "     Survived  Pclass     Sex Embarked  Infant & Toddler  Middle-aged  Senior  \\\n",
       "139         0       1    male        C                 0            0       0   \n",
       "140         0       3  female        C                 0            0       0   \n",
       "832         0       3    male        C                 0            0       0   \n",
       "305         1       1    male        S                 1            0       0   \n",
       "747         1       2  female        S                 0            0       0   \n",
       "\n",
       "     Teenager  Young Adult  Young Teenage  None  One  None_pc  One_pc  \\\n",
       "139         0            1              0     1    0        1       0   \n",
       "140         0            0              0     1    0        0       0   \n",
       "832         0            0              0     1    0        1       0   \n",
       "305         0            0              0     0    1        0       0   \n",
       "747         0            0              0     1    0        1       0   \n",
       "\n",
       "     fare50%  fare75%  fare100%  \n",
       "139        0        0         1  \n",
       "140        0        1         0  \n",
       "832        0        0         0  \n",
       "305        0        0         1  \n",
       "747        1        0         0  "
      ]
     },
     "execution_count": 25,
     "metadata": {},
     "output_type": "execute_result"
    }
   ],
   "source": [
    "# Map fare values into categories\n",
    "train[\"fare_c\"] = pd.qcut(train[\"Fare\"], 4, labels = [\"fare25%\", \"fare50%\", \"fare75%\",\"fare100%\"])\n",
    "test[\"fare_c\"] = pd.qcut(test[\"Fare\"], 4, labels = [\"fare25%\", \"fare50%\", \"fare75%\",\"fare100%\"])\n",
    "\n",
    "# Generate dummy variables for both train and test\n",
    "fare_dummy_train = pd.get_dummies(train[\"fare_c\"], drop_first = True)\n",
    "fare_dummy_test = pd.get_dummies(test[\"fare_c\"], drop_first = True)\n",
    "\n",
    "# Append dummy variables to the original data frames\n",
    "m_train = pd.concat([m_train, fare_dummy_train], axis = 1)\n",
    "m_train = m_train.drop([\"Fare\"], axis = 1)\n",
    "\n",
    "m_test = pd.concat([m_test, fare_dummy_test], axis = 1)\n",
    "m_test = m_test.drop([\"Fare\"], axis = 1)\n",
    "\n",
    "m_train.sample(5)"
   ]
  },
  {
   "cell_type": "markdown",
   "metadata": {
    "_cell_guid": "22d97180-dea3-4bb2-bea4-9b38ef482626",
    "_uuid": "5704216689edf8769509ce0b67b0ff5bfa71cbf6"
   },
   "source": [
    "## 4.4 Assign numerical values to categorical variables"
   ]
  },
  {
   "cell_type": "markdown",
   "metadata": {
    "_cell_guid": "83e13901-5f9e-4ab4-bd1b-864030c27a36",
    "_uuid": "ef468cd647223b5961f79ef667f0c90589eeec34",
    "collapsed": true
   },
   "source": [
    "## 4.4.1 Sex"
   ]
  },
  {
   "cell_type": "code",
   "execution_count": 26,
   "metadata": {
    "_cell_guid": "d55ff971-921a-4fcc-8b2e-6d47574545e6",
    "_uuid": "d48efc5837c2bb8bda39ea3bbbf915ae3dad3112"
   },
   "outputs": [
    {
     "data": {
      "text/html": [
       "<div>\n",
       "<style scoped>\n",
       "    .dataframe tbody tr th:only-of-type {\n",
       "        vertical-align: middle;\n",
       "    }\n",
       "\n",
       "    .dataframe tbody tr th {\n",
       "        vertical-align: top;\n",
       "    }\n",
       "\n",
       "    .dataframe thead th {\n",
       "        text-align: right;\n",
       "    }\n",
       "</style>\n",
       "<table border=\"1\" class=\"dataframe\">\n",
       "  <thead>\n",
       "    <tr style=\"text-align: right;\">\n",
       "      <th></th>\n",
       "      <th>Survived</th>\n",
       "      <th>Pclass</th>\n",
       "      <th>Embarked</th>\n",
       "      <th>Infant &amp; Toddler</th>\n",
       "      <th>Middle-aged</th>\n",
       "      <th>Senior</th>\n",
       "      <th>Teenager</th>\n",
       "      <th>Young Adult</th>\n",
       "      <th>Young Teenage</th>\n",
       "      <th>None</th>\n",
       "      <th>One</th>\n",
       "      <th>None_pc</th>\n",
       "      <th>One_pc</th>\n",
       "      <th>fare50%</th>\n",
       "      <th>fare75%</th>\n",
       "      <th>fare100%</th>\n",
       "      <th>male</th>\n",
       "    </tr>\n",
       "  </thead>\n",
       "  <tbody>\n",
       "    <tr>\n",
       "      <th>49</th>\n",
       "      <td>0</td>\n",
       "      <td>3</td>\n",
       "      <td>S</td>\n",
       "      <td>0</td>\n",
       "      <td>0</td>\n",
       "      <td>0</td>\n",
       "      <td>1</td>\n",
       "      <td>0</td>\n",
       "      <td>0</td>\n",
       "      <td>0</td>\n",
       "      <td>1</td>\n",
       "      <td>1</td>\n",
       "      <td>0</td>\n",
       "      <td>0</td>\n",
       "      <td>1</td>\n",
       "      <td>0</td>\n",
       "      <td>0</td>\n",
       "    </tr>\n",
       "    <tr>\n",
       "      <th>630</th>\n",
       "      <td>1</td>\n",
       "      <td>1</td>\n",
       "      <td>S</td>\n",
       "      <td>0</td>\n",
       "      <td>0</td>\n",
       "      <td>1</td>\n",
       "      <td>0</td>\n",
       "      <td>0</td>\n",
       "      <td>0</td>\n",
       "      <td>1</td>\n",
       "      <td>0</td>\n",
       "      <td>1</td>\n",
       "      <td>0</td>\n",
       "      <td>0</td>\n",
       "      <td>1</td>\n",
       "      <td>0</td>\n",
       "      <td>1</td>\n",
       "    </tr>\n",
       "    <tr>\n",
       "      <th>768</th>\n",
       "      <td>0</td>\n",
       "      <td>3</td>\n",
       "      <td>Q</td>\n",
       "      <td>0</td>\n",
       "      <td>0</td>\n",
       "      <td>0</td>\n",
       "      <td>0</td>\n",
       "      <td>1</td>\n",
       "      <td>0</td>\n",
       "      <td>0</td>\n",
       "      <td>1</td>\n",
       "      <td>1</td>\n",
       "      <td>0</td>\n",
       "      <td>0</td>\n",
       "      <td>1</td>\n",
       "      <td>0</td>\n",
       "      <td>1</td>\n",
       "    </tr>\n",
       "    <tr>\n",
       "      <th>724</th>\n",
       "      <td>1</td>\n",
       "      <td>1</td>\n",
       "      <td>S</td>\n",
       "      <td>0</td>\n",
       "      <td>0</td>\n",
       "      <td>0</td>\n",
       "      <td>0</td>\n",
       "      <td>0</td>\n",
       "      <td>0</td>\n",
       "      <td>0</td>\n",
       "      <td>1</td>\n",
       "      <td>1</td>\n",
       "      <td>0</td>\n",
       "      <td>0</td>\n",
       "      <td>0</td>\n",
       "      <td>1</td>\n",
       "      <td>1</td>\n",
       "    </tr>\n",
       "    <tr>\n",
       "      <th>567</th>\n",
       "      <td>0</td>\n",
       "      <td>3</td>\n",
       "      <td>S</td>\n",
       "      <td>0</td>\n",
       "      <td>0</td>\n",
       "      <td>0</td>\n",
       "      <td>0</td>\n",
       "      <td>0</td>\n",
       "      <td>0</td>\n",
       "      <td>1</td>\n",
       "      <td>0</td>\n",
       "      <td>0</td>\n",
       "      <td>0</td>\n",
       "      <td>0</td>\n",
       "      <td>1</td>\n",
       "      <td>0</td>\n",
       "      <td>0</td>\n",
       "    </tr>\n",
       "  </tbody>\n",
       "</table>\n",
       "</div>"
      ],
      "text/plain": [
       "     Survived  Pclass Embarked  Infant & Toddler  Middle-aged  Senior  \\\n",
       "49          0       3        S                 0            0       0   \n",
       "630         1       1        S                 0            0       1   \n",
       "768         0       3        Q                 0            0       0   \n",
       "724         1       1        S                 0            0       0   \n",
       "567         0       3        S                 0            0       0   \n",
       "\n",
       "     Teenager  Young Adult  Young Teenage  None  One  None_pc  One_pc  \\\n",
       "49          1            0              0     0    1        1       0   \n",
       "630         0            0              0     1    0        1       0   \n",
       "768         0            1              0     0    1        1       0   \n",
       "724         0            0              0     0    1        1       0   \n",
       "567         0            0              0     1    0        0       0   \n",
       "\n",
       "     fare50%  fare75%  fare100%  male  \n",
       "49         0        1         0     0  \n",
       "630        0        1         0     1  \n",
       "768        0        1         0     1  \n",
       "724        0        0         1     1  \n",
       "567        0        1         0     0  "
      ]
     },
     "execution_count": 26,
     "metadata": {},
     "output_type": "execute_result"
    }
   ],
   "source": [
    "# Generate dummy variables for both train and test\n",
    "sex_dummy_train = pd.get_dummies(train[\"Sex\"], drop_first = True)\n",
    "sex_dummy_test = pd.get_dummies(test[\"Sex\"], drop_first = True)\n",
    "\n",
    "# Append dummy variables to the original data frames\n",
    "m_train = pd.concat([m_train, sex_dummy_train], axis = 1)\n",
    "m_train = m_train.drop([\"Sex\"], axis = 1)\n",
    "\n",
    "m_test = pd.concat([m_test, sex_dummy_test], axis = 1)\n",
    "m_test = m_test.drop([\"Sex\"], axis = 1)\n",
    "\n",
    "m_train.sample(5)"
   ]
  },
  {
   "cell_type": "markdown",
   "metadata": {
    "_uuid": "0abe83f655f29d7cadfd4f45840ab3738f2789a9"
   },
   "source": [
    "## 4.4.2 Embarked"
   ]
  },
  {
   "cell_type": "code",
   "execution_count": 27,
   "metadata": {
    "_uuid": "deb7fd8cf8f0bfda950f5bf77b79fd34742f952d"
   },
   "outputs": [
    {
     "data": {
      "text/html": [
       "<div>\n",
       "<style scoped>\n",
       "    .dataframe tbody tr th:only-of-type {\n",
       "        vertical-align: middle;\n",
       "    }\n",
       "\n",
       "    .dataframe tbody tr th {\n",
       "        vertical-align: top;\n",
       "    }\n",
       "\n",
       "    .dataframe thead th {\n",
       "        text-align: right;\n",
       "    }\n",
       "</style>\n",
       "<table border=\"1\" class=\"dataframe\">\n",
       "  <thead>\n",
       "    <tr style=\"text-align: right;\">\n",
       "      <th></th>\n",
       "      <th>Survived</th>\n",
       "      <th>Pclass</th>\n",
       "      <th>Infant &amp; Toddler</th>\n",
       "      <th>Middle-aged</th>\n",
       "      <th>Senior</th>\n",
       "      <th>Teenager</th>\n",
       "      <th>Young Adult</th>\n",
       "      <th>Young Teenage</th>\n",
       "      <th>None</th>\n",
       "      <th>One</th>\n",
       "      <th>None_pc</th>\n",
       "      <th>One_pc</th>\n",
       "      <th>fare50%</th>\n",
       "      <th>fare75%</th>\n",
       "      <th>fare100%</th>\n",
       "      <th>male</th>\n",
       "      <th>Q</th>\n",
       "      <th>S</th>\n",
       "    </tr>\n",
       "  </thead>\n",
       "  <tbody>\n",
       "    <tr>\n",
       "      <th>197</th>\n",
       "      <td>0</td>\n",
       "      <td>3</td>\n",
       "      <td>0</td>\n",
       "      <td>0</td>\n",
       "      <td>0</td>\n",
       "      <td>0</td>\n",
       "      <td>0</td>\n",
       "      <td>0</td>\n",
       "      <td>1</td>\n",
       "      <td>0</td>\n",
       "      <td>0</td>\n",
       "      <td>1</td>\n",
       "      <td>1</td>\n",
       "      <td>0</td>\n",
       "      <td>0</td>\n",
       "      <td>1</td>\n",
       "      <td>0</td>\n",
       "      <td>1</td>\n",
       "    </tr>\n",
       "    <tr>\n",
       "      <th>732</th>\n",
       "      <td>0</td>\n",
       "      <td>2</td>\n",
       "      <td>0</td>\n",
       "      <td>0</td>\n",
       "      <td>0</td>\n",
       "      <td>0</td>\n",
       "      <td>0</td>\n",
       "      <td>0</td>\n",
       "      <td>1</td>\n",
       "      <td>0</td>\n",
       "      <td>1</td>\n",
       "      <td>0</td>\n",
       "      <td>0</td>\n",
       "      <td>0</td>\n",
       "      <td>0</td>\n",
       "      <td>1</td>\n",
       "      <td>0</td>\n",
       "      <td>1</td>\n",
       "    </tr>\n",
       "    <tr>\n",
       "      <th>650</th>\n",
       "      <td>0</td>\n",
       "      <td>3</td>\n",
       "      <td>0</td>\n",
       "      <td>0</td>\n",
       "      <td>0</td>\n",
       "      <td>0</td>\n",
       "      <td>1</td>\n",
       "      <td>0</td>\n",
       "      <td>1</td>\n",
       "      <td>0</td>\n",
       "      <td>1</td>\n",
       "      <td>0</td>\n",
       "      <td>0</td>\n",
       "      <td>0</td>\n",
       "      <td>0</td>\n",
       "      <td>1</td>\n",
       "      <td>0</td>\n",
       "      <td>1</td>\n",
       "    </tr>\n",
       "    <tr>\n",
       "      <th>858</th>\n",
       "      <td>1</td>\n",
       "      <td>3</td>\n",
       "      <td>0</td>\n",
       "      <td>0</td>\n",
       "      <td>0</td>\n",
       "      <td>0</td>\n",
       "      <td>1</td>\n",
       "      <td>0</td>\n",
       "      <td>1</td>\n",
       "      <td>0</td>\n",
       "      <td>0</td>\n",
       "      <td>0</td>\n",
       "      <td>0</td>\n",
       "      <td>1</td>\n",
       "      <td>0</td>\n",
       "      <td>0</td>\n",
       "      <td>0</td>\n",
       "      <td>0</td>\n",
       "    </tr>\n",
       "    <tr>\n",
       "      <th>124</th>\n",
       "      <td>0</td>\n",
       "      <td>1</td>\n",
       "      <td>0</td>\n",
       "      <td>1</td>\n",
       "      <td>0</td>\n",
       "      <td>0</td>\n",
       "      <td>0</td>\n",
       "      <td>0</td>\n",
       "      <td>1</td>\n",
       "      <td>0</td>\n",
       "      <td>0</td>\n",
       "      <td>1</td>\n",
       "      <td>0</td>\n",
       "      <td>0</td>\n",
       "      <td>1</td>\n",
       "      <td>1</td>\n",
       "      <td>0</td>\n",
       "      <td>1</td>\n",
       "    </tr>\n",
       "  </tbody>\n",
       "</table>\n",
       "</div>"
      ],
      "text/plain": [
       "     Survived  Pclass  Infant & Toddler  Middle-aged  Senior  Teenager  \\\n",
       "197         0       3                 0            0       0         0   \n",
       "732         0       2                 0            0       0         0   \n",
       "650         0       3                 0            0       0         0   \n",
       "858         1       3                 0            0       0         0   \n",
       "124         0       1                 0            1       0         0   \n",
       "\n",
       "     Young Adult  Young Teenage  None  One  None_pc  One_pc  fare50%  fare75%  \\\n",
       "197            0              0     1    0        0       1        1        0   \n",
       "732            0              0     1    0        1       0        0        0   \n",
       "650            1              0     1    0        1       0        0        0   \n",
       "858            1              0     1    0        0       0        0        1   \n",
       "124            0              0     1    0        0       1        0        0   \n",
       "\n",
       "     fare100%  male  Q  S  \n",
       "197         0     1  0  1  \n",
       "732         0     1  0  1  \n",
       "650         0     1  0  1  \n",
       "858         0     0  0  0  \n",
       "124         1     1  0  1  "
      ]
     },
     "execution_count": 27,
     "metadata": {},
     "output_type": "execute_result"
    }
   ],
   "source": [
    "# Generate dummy variables for both train and test\n",
    "emk_dummy_train = pd.get_dummies(train[\"Embarked\"], drop_first = True)\n",
    "emk_dummy_test = pd.get_dummies(test[\"Embarked\"], drop_first = True)\n",
    "\n",
    "# Append dummy variables to the original data frames\n",
    "m_train = pd.concat([m_train, emk_dummy_train], axis = 1)\n",
    "m_train = m_train.drop([\"Embarked\"], axis = 1)\n",
    "\n",
    "m_test = pd.concat([m_test, emk_dummy_test], axis = 1)\n",
    "m_test = m_test.drop([\"Embarked\"], axis = 1)\n",
    "\n",
    "m_train.sample(5)"
   ]
  },
  {
   "cell_type": "markdown",
   "metadata": {
    "_uuid": "15d7274fc88c14336e67de570b7f541b839512bd"
   },
   "source": [
    "## 4.4.3 Pclass"
   ]
  },
  {
   "cell_type": "code",
   "execution_count": 28,
   "metadata": {
    "_uuid": "9c706c6c0b21d31338dd920be7ab15a96247278a"
   },
   "outputs": [
    {
     "data": {
      "text/html": [
       "<div>\n",
       "<style scoped>\n",
       "    .dataframe tbody tr th:only-of-type {\n",
       "        vertical-align: middle;\n",
       "    }\n",
       "\n",
       "    .dataframe tbody tr th {\n",
       "        vertical-align: top;\n",
       "    }\n",
       "\n",
       "    .dataframe thead th {\n",
       "        text-align: right;\n",
       "    }\n",
       "</style>\n",
       "<table border=\"1\" class=\"dataframe\">\n",
       "  <thead>\n",
       "    <tr style=\"text-align: right;\">\n",
       "      <th></th>\n",
       "      <th>Survived</th>\n",
       "      <th>Infant &amp; Toddler</th>\n",
       "      <th>Middle-aged</th>\n",
       "      <th>Senior</th>\n",
       "      <th>Teenager</th>\n",
       "      <th>Young Adult</th>\n",
       "      <th>Young Teenage</th>\n",
       "      <th>None</th>\n",
       "      <th>One</th>\n",
       "      <th>None_pc</th>\n",
       "      <th>One_pc</th>\n",
       "      <th>fare50%</th>\n",
       "      <th>fare75%</th>\n",
       "      <th>fare100%</th>\n",
       "      <th>male</th>\n",
       "      <th>Q</th>\n",
       "      <th>S</th>\n",
       "      <th>class2</th>\n",
       "      <th>class3</th>\n",
       "    </tr>\n",
       "  </thead>\n",
       "  <tbody>\n",
       "    <tr>\n",
       "      <th>849</th>\n",
       "      <td>1</td>\n",
       "      <td>0</td>\n",
       "      <td>0</td>\n",
       "      <td>0</td>\n",
       "      <td>0</td>\n",
       "      <td>1</td>\n",
       "      <td>0</td>\n",
       "      <td>0</td>\n",
       "      <td>1</td>\n",
       "      <td>1</td>\n",
       "      <td>0</td>\n",
       "      <td>0</td>\n",
       "      <td>0</td>\n",
       "      <td>1</td>\n",
       "      <td>0</td>\n",
       "      <td>0</td>\n",
       "      <td>0</td>\n",
       "      <td>0</td>\n",
       "      <td>0</td>\n",
       "    </tr>\n",
       "    <tr>\n",
       "      <th>241</th>\n",
       "      <td>1</td>\n",
       "      <td>0</td>\n",
       "      <td>0</td>\n",
       "      <td>0</td>\n",
       "      <td>0</td>\n",
       "      <td>0</td>\n",
       "      <td>0</td>\n",
       "      <td>0</td>\n",
       "      <td>1</td>\n",
       "      <td>1</td>\n",
       "      <td>0</td>\n",
       "      <td>0</td>\n",
       "      <td>1</td>\n",
       "      <td>0</td>\n",
       "      <td>0</td>\n",
       "      <td>1</td>\n",
       "      <td>0</td>\n",
       "      <td>0</td>\n",
       "      <td>1</td>\n",
       "    </tr>\n",
       "    <tr>\n",
       "      <th>609</th>\n",
       "      <td>1</td>\n",
       "      <td>0</td>\n",
       "      <td>0</td>\n",
       "      <td>0</td>\n",
       "      <td>0</td>\n",
       "      <td>0</td>\n",
       "      <td>0</td>\n",
       "      <td>1</td>\n",
       "      <td>0</td>\n",
       "      <td>1</td>\n",
       "      <td>0</td>\n",
       "      <td>0</td>\n",
       "      <td>0</td>\n",
       "      <td>1</td>\n",
       "      <td>0</td>\n",
       "      <td>0</td>\n",
       "      <td>1</td>\n",
       "      <td>0</td>\n",
       "      <td>0</td>\n",
       "    </tr>\n",
       "    <tr>\n",
       "      <th>491</th>\n",
       "      <td>0</td>\n",
       "      <td>0</td>\n",
       "      <td>0</td>\n",
       "      <td>0</td>\n",
       "      <td>0</td>\n",
       "      <td>1</td>\n",
       "      <td>0</td>\n",
       "      <td>1</td>\n",
       "      <td>0</td>\n",
       "      <td>1</td>\n",
       "      <td>0</td>\n",
       "      <td>0</td>\n",
       "      <td>0</td>\n",
       "      <td>0</td>\n",
       "      <td>1</td>\n",
       "      <td>0</td>\n",
       "      <td>1</td>\n",
       "      <td>0</td>\n",
       "      <td>1</td>\n",
       "    </tr>\n",
       "    <tr>\n",
       "      <th>48</th>\n",
       "      <td>0</td>\n",
       "      <td>0</td>\n",
       "      <td>0</td>\n",
       "      <td>0</td>\n",
       "      <td>0</td>\n",
       "      <td>1</td>\n",
       "      <td>0</td>\n",
       "      <td>0</td>\n",
       "      <td>0</td>\n",
       "      <td>1</td>\n",
       "      <td>0</td>\n",
       "      <td>0</td>\n",
       "      <td>1</td>\n",
       "      <td>0</td>\n",
       "      <td>1</td>\n",
       "      <td>0</td>\n",
       "      <td>0</td>\n",
       "      <td>0</td>\n",
       "      <td>1</td>\n",
       "    </tr>\n",
       "  </tbody>\n",
       "</table>\n",
       "</div>"
      ],
      "text/plain": [
       "     Survived  Infant & Toddler  Middle-aged  Senior  Teenager  Young Adult  \\\n",
       "849         1                 0            0       0         0            1   \n",
       "241         1                 0            0       0         0            0   \n",
       "609         1                 0            0       0         0            0   \n",
       "491         0                 0            0       0         0            1   \n",
       "48          0                 0            0       0         0            1   \n",
       "\n",
       "     Young Teenage  None  One  None_pc  One_pc  fare50%  fare75%  fare100%  \\\n",
       "849              0     0    1        1       0        0        0         1   \n",
       "241              0     0    1        1       0        0        1         0   \n",
       "609              0     1    0        1       0        0        0         1   \n",
       "491              0     1    0        1       0        0        0         0   \n",
       "48               0     0    0        1       0        0        1         0   \n",
       "\n",
       "     male  Q  S  class2  class3  \n",
       "849     0  0  0       0       0  \n",
       "241     0  1  0       0       1  \n",
       "609     0  0  1       0       0  \n",
       "491     1  0  1       0       1  \n",
       "48      1  0  0       0       1  "
      ]
     },
     "execution_count": 28,
     "metadata": {},
     "output_type": "execute_result"
    }
   ],
   "source": [
    "# Map Parch into categories\n",
    "train.loc[train[\"Pclass\"] == 1, \"class_c\"] = \"class1\"\n",
    "train.loc[train[\"Pclass\"] == 2, \"class_c\"] = \"class2\"\n",
    "train.loc[train[\"Pclass\"] == 3, \"class_c\"] = \"class3\"\n",
    "\n",
    "test.loc[train[\"Pclass\"] == 1, \"class_c\"] = \"class1\"\n",
    "test.loc[train[\"Pclass\"] == 2, \"class_c\"] = \"class2\"\n",
    "test.loc[train[\"Pclass\"] == 3, \"class_c\"] = \"class3\"\n",
    "\n",
    "# Generate dummy variables for both train and test\n",
    "class_dummy_train = pd.get_dummies(train[\"class_c\"], drop_first = True)\n",
    "class_dummy_test = pd.get_dummies(test[\"class_c\"], drop_first = True)\n",
    "\n",
    "# Append dummy variables to the original data frames\n",
    "m_train = pd.concat([m_train, class_dummy_train], axis = 1)\n",
    "m_train = m_train.drop([\"Pclass\"], axis = 1)\n",
    "\n",
    "m_test = pd.concat([m_test, class_dummy_test], axis = 1)\n",
    "m_test = m_test.drop([\"Pclass\"], axis = 1)\n",
    "\n",
    "m_train.sample(5)"
   ]
  },
  {
   "cell_type": "code",
   "execution_count": 29,
   "metadata": {
    "_uuid": "790c2a3688199104f769fa4bbe2c7329af89ab21"
   },
   "outputs": [
    {
     "name": "stdout",
     "output_type": "stream",
     "text": [
      "<class 'pandas.core.frame.DataFrame'>\n",
      "RangeIndex: 891 entries, 0 to 890\n",
      "Data columns (total 13 columns):\n",
      "Survived    891 non-null int64\n",
      "Pclass      891 non-null int64\n",
      "Sex         891 non-null object\n",
      "Age         891 non-null int64\n",
      "SibSp       891 non-null int64\n",
      "Parch       891 non-null int64\n",
      "Fare        891 non-null float64\n",
      "Embarked    891 non-null object\n",
      "age_c       891 non-null object\n",
      "sib_c       891 non-null object\n",
      "pc_c        891 non-null object\n",
      "fare_c      891 non-null category\n",
      "class_c     891 non-null object\n",
      "dtypes: category(1), float64(1), int64(5), object(6)\n",
      "memory usage: 84.7+ KB\n",
      "***************************************************\n",
      "<class 'pandas.core.frame.DataFrame'>\n",
      "RangeIndex: 418 entries, 0 to 417\n",
      "Data columns (total 12 columns):\n",
      "Pclass      418 non-null int64\n",
      "Sex         418 non-null object\n",
      "Age         418 non-null int64\n",
      "SibSp       418 non-null int64\n",
      "Parch       418 non-null int64\n",
      "Fare        418 non-null float64\n",
      "Embarked    418 non-null object\n",
      "age_c       418 non-null object\n",
      "sib_c       418 non-null object\n",
      "pc_c        418 non-null object\n",
      "fare_c      418 non-null category\n",
      "class_c     418 non-null object\n",
      "dtypes: category(1), float64(1), int64(4), object(6)\n",
      "memory usage: 36.6+ KB\n"
     ]
    }
   ],
   "source": [
    "# Check dataset status before modelling\n",
    "train.info()\n",
    "print('***************************************************')\n",
    "test.info()"
   ]
  },
  {
   "cell_type": "markdown",
   "metadata": {
    "_uuid": "db01835ee14d216ec93e9bded8edf575bc6e5d0c"
   },
   "source": [
    "# 5. Running Machine Learning Algorithms\n",
    "\n",
    "The datasets are finally ready for modeling!!!\n",
    "\n",
    "We will explore the following models:\n",
    "- Gaussian Naive Bayes\n",
    "- Logistics Regression\n",
    "- Support Vector Machine\n",
    "- Decision Tree Classifier\n",
    "- Random Forest Classifier\n",
    "- K-Nearest Neighbors\n",
    "\n",
    "* Note that all parameters are set as default as of 1/10/2018; To be adjusted"
   ]
  },
  {
   "cell_type": "code",
   "execution_count": 30,
   "metadata": {
    "_uuid": "2dfae9ba8aed8b30e9533c4838a2ea471f31908e",
    "collapsed": true
   },
   "outputs": [],
   "source": [
    "# As inspired by Nadin, we will use 80% of the data for training,\n",
    "# and the rest 20% to test the accuracy of the model\n",
    "\n",
    "predictors = m_train.drop([\"Survived\"], axis = 1)\n",
    "target = m_train[\"Survived\"]\n",
    "x_train, x_val, y_train, y_val = train_test_split(predictors, target, test_size = 0.2, random_state = 0)"
   ]
  },
  {
   "cell_type": "code",
   "execution_count": 31,
   "metadata": {
    "_uuid": "ee8545681249bbbc5446c1dd329b6ea96e49b0a5"
   },
   "outputs": [
    {
     "data": {
      "text/plain": [
       "0.7541899441340782"
      ]
     },
     "execution_count": 31,
     "metadata": {},
     "output_type": "execute_result"
    }
   ],
   "source": [
    "# Gaussian Naive Bayes\n",
    "gaussian = GaussianNB()\n",
    "gaussian.fit(x_train, y_train)\n",
    "# y_pred = gaussian.predict(x_val)\n",
    "acc_gaussian = gaussian.score(x_val, y_val)\n",
    "acc_gaussian"
   ]
  },
  {
   "cell_type": "code",
   "execution_count": 32,
   "metadata": {
    "_uuid": "2f6d2ed7a076b2d5c18904a61ca10bd1afd30b76"
   },
   "outputs": [
    {
     "data": {
      "text/plain": [
       "0.7932960893854749"
      ]
     },
     "execution_count": 32,
     "metadata": {},
     "output_type": "execute_result"
    }
   ],
   "source": [
    "# Logistic Regression\n",
    "logreg = LogisticRegression()\n",
    "logreg.fit(x_train, y_train)\n",
    "#y_pred = logreg.predict(x_val)\n",
    "acc_logreg = logreg.score(x_val, y_val)\n",
    "acc_logreg"
   ]
  },
  {
   "cell_type": "code",
   "execution_count": 33,
   "metadata": {
    "_uuid": "9d0f4edb52ec9a9026a39ff98796b39db116bac6"
   },
   "outputs": [
    {
     "data": {
      "text/plain": [
       "0.7877094972067039"
      ]
     },
     "execution_count": 33,
     "metadata": {},
     "output_type": "execute_result"
    }
   ],
   "source": [
    "# Support Vector Machine\n",
    "svc = SVC()\n",
    "svc.fit(x_train, y_train)\n",
    "#y_pred = logreg.predict(x_val)\n",
    "acc_svc = svc.score(x_val, y_val)\n",
    "acc_svc"
   ]
  },
  {
   "cell_type": "code",
   "execution_count": 34,
   "metadata": {
    "_uuid": "6ecd4dc5702b5186be80429679d69c6bb179188f"
   },
   "outputs": [
    {
     "data": {
      "text/plain": [
       "0.8491620111731844"
      ]
     },
     "execution_count": 34,
     "metadata": {},
     "output_type": "execute_result"
    }
   ],
   "source": [
    "# Decision Tree Classifier\n",
    "decisiontree = DecisionTreeClassifier()\n",
    "decisiontree.fit(x_train, y_train)\n",
    "#y_pred = decisiontree.predict(x_val)\n",
    "acc_decisiontree = decisiontree.score(x_val, y_val)\n",
    "acc_decisiontree"
   ]
  },
  {
   "cell_type": "code",
   "execution_count": 35,
   "metadata": {
    "_uuid": "1e6a9184096698cc60ed6dc6e492ea0708670e89"
   },
   "outputs": [
    {
     "data": {
      "text/plain": [
       "0.8268156424581006"
      ]
     },
     "execution_count": 35,
     "metadata": {},
     "output_type": "execute_result"
    }
   ],
   "source": [
    "# Random Forest Classifier\n",
    "randomforest = RandomForestClassifier()\n",
    "randomforest.fit(x_train, y_train)\n",
    "#y_pred = randomforest.predict(x_val)\n",
    "acc_randomforest = randomforest.score(x_val, y_val)\n",
    "acc_randomforest"
   ]
  },
  {
   "cell_type": "code",
   "execution_count": 36,
   "metadata": {
    "_uuid": "2b784ae49e743f0a097d32b9f02af865fc61c442"
   },
   "outputs": [
    {
     "data": {
      "text/plain": [
       "0.8156424581005587"
      ]
     },
     "execution_count": 36,
     "metadata": {},
     "output_type": "execute_result"
    }
   ],
   "source": [
    "# K-Nearest Neighbors\n",
    "knn = KNeighborsClassifier()\n",
    "knn.fit(x_train, y_train)\n",
    "#y_pred = knn.predict(x_val)\n",
    "acc_knn = knn.score(x_val, y_val)\n",
    "acc_knn"
   ]
  },
  {
   "cell_type": "markdown",
   "metadata": {
    "_uuid": "b72e5184850b1578b84a4c4c0869d555d4da75bb"
   },
   "source": [
    "Based on the outputs above, Decision Tree seems to work the best."
   ]
  },
  {
   "cell_type": "markdown",
   "metadata": {
    "_uuid": "4d18d16a35bccaa0e8216ee4925e04866a9c09a9"
   },
   "source": [
    "# 6. Create a Submission File\n"
   ]
  },
  {
   "cell_type": "code",
   "execution_count": 37,
   "metadata": {
    "_uuid": "546d4fe0a67ba22345c723431b104b2530a7c071",
    "collapsed": true
   },
   "outputs": [],
   "source": [
    "# Generate Predictions\n",
    "prediction = decisiontree.predict(m_test)\n",
    "\n",
    "submission_titanic = pd.DataFrame({ 'PassengerId': PassengerId,\n",
    "                            'Survived': prediction })\n",
    "submission_titanic.to_csv(\"submission_titanic.csv\", index = False)\n"
   ]
  }
 ],
 "metadata": {
  "kernelspec": {
   "display_name": "Python 3",
   "language": "python",
   "name": "python3"
  },
  "language_info": {
   "codemirror_mode": {
    "name": "ipython",
    "version": 3
   },
   "file_extension": ".py",
   "mimetype": "text/x-python",
   "name": "python",
   "nbconvert_exporter": "python",
   "pygments_lexer": "ipython3",
   "version": "3.6.3"
  }
 },
 "nbformat": 4,
 "nbformat_minor": 1
}
