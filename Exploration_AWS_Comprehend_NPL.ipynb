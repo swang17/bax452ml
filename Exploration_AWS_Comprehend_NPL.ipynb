{
 "cells": [
  {
   "cell_type": "markdown",
   "metadata": {},
   "source": [
    "# AWS Comprehend Sentiment Analysis"
   ]
  },
  {
   "cell_type": "markdown",
   "metadata": {},
   "source": [
    "This notebook follows the instruction from the following notebook:<br>\n",
    "https://github.com/noahgift/recommendations/blob/master/notebooks/NLP_AWS.ipynb"
   ]
  },
  {
   "cell_type": "code",
   "execution_count": 1,
   "metadata": {
    "collapsed": true
   },
   "outputs": [],
   "source": [
    "import pandas as pd\n",
    "import boto3\n",
    "import json"
   ]
  },
  {
   "cell_type": "code",
   "execution_count": 2,
   "metadata": {
    "collapsed": true
   },
   "outputs": [],
   "source": [
    "comprehend = boto3.client(service_name='comprehend')"
   ]
  },
  {
   "cell_type": "markdown",
   "metadata": {},
   "source": [
    "First try with one sentence"
   ]
  },
  {
   "cell_type": "code",
   "execution_count": 3,
   "metadata": {},
   "outputs": [
    {
     "name": "stdout",
     "output_type": "stream",
     "text": [
      "Calling DetectSentiment\n",
      "{\n",
      "    \"ResponseMetadata\": {\n",
      "        \"HTTPHeaders\": {\n",
      "            \"connection\": \"keep-alive\",\n",
      "            \"content-length\": \"164\",\n",
      "            \"content-type\": \"application/x-amz-json-1.1\",\n",
      "            \"date\": \"Sun, 11 Mar 2018 08:40:01 GMT\",\n",
      "            \"x-amzn-requestid\": \"c970edde-2507-11e8-8ae3-a9e7a3481d40\"\n",
      "        },\n",
      "        \"HTTPStatusCode\": 200,\n",
      "        \"RequestId\": \"c970edde-2507-11e8-8ae3-a9e7a3481d40\",\n",
      "        \"RetryAttempts\": 0\n",
      "    },\n",
      "    \"Sentiment\": \"NEUTRAL\",\n",
      "    \"SentimentScore\": {\n",
      "        \"Mixed\": 0.002063251566141844,\n",
      "        \"Negative\": 0.013271247036755085,\n",
      "        \"Neutral\": 0.9274052977561951,\n",
      "        \"Positive\": 0.057260122150182724\n",
      "    }\n",
      "}\n",
      "End of DetectSentiment\n",
      "\n"
     ]
    }
   ],
   "source": [
    "text = \"It is raining today in Seattle\"\n",
    "print('Calling DetectSentiment')\n",
    "print(json.dumps(comprehend.detect_sentiment(Text=text, LanguageCode='en'), sort_keys=True, indent=4))\n",
    "print('End of DetectSentiment\\n')"
   ]
  },
  {
   "cell_type": "markdown",
   "metadata": {},
   "source": [
    "Use Movie Review Data "
   ]
  },
  {
   "cell_type": "code",
   "execution_count": 11,
   "metadata": {},
   "outputs": [],
   "source": [
    "path = 'review_polarity/txt_sentoken/neg/cv999_14636.txt'\n",
    "doc1 = open(path, 'r')\n",
    "output = doc1.readlines()"
   ]
  },
  {
   "cell_type": "code",
   "execution_count": 12,
   "metadata": {},
   "outputs": [
    {
     "data": {
      "text/plain": [
       "['two party guys bob their heads to haddaway\\'s dance hit \" what is love ? \" \\n',\n",
       " 'while getting themselves into trouble in nightclub after nightclub . \\n',\n",
       " 'it\\'s barely enough to sustain a three-minute _saturday_night_live_ skit , but _snl_ producer lorne michaels , _clueless_ creator amy heckerling , and paramount pictures saw something in the late night television institution\\'s recurring \" roxbury guys \" sketch that would presumably make a good feature . \\n',\n",
       " 'emphasis on the word \" presumably . \" \\n',\n",
       " \"_a_night_at_the_roxbury_ takes an already-thin concept and tediously stretches it far beyond the breaking point--and that of viewers' patience levels . \\n\",\n",
       " 'the first five minutes or so of _roxbury_ play very much like one of the original \" roxbury guys \" skits . \\n',\n",
       " 'with \" what is love ? \" \\n',\n",
       " 'blaring on the soundtrack , the brotherly duo of doug and steve butabi ( chris kattan and will ferrell ) bob their heads , scope out \" hotties \" at clubs , and then bump a select few with violent pelvic thrusts . \\n',\n",
       " 'there is one crucial difference , however--these guys speak . \\n',\n",
       " \"that little fact has been used as justification for the film's existence , that the butabis' newfound capacity for speech would open up a whole new set of doors for the characters . \\n\",\n",
       " \"the doors opened by director john fortenberry and screenwriters steve koren , ferrell , and kattan are new , that's for sure , but they all lead to comic dead ends . \\n\",\n",
       " 'there is no story per se , only a loosely structured and linked series of subplots . \\n',\n",
       " 'the brothers literally run into ( or , rather , get run into , as in by car ) richard grieco of _21_jump_street_ fame , and through him they gain entrance into the exclusive roxbury club . \\n',\n",
       " 'there , they meet a hotshot club owner ( chazz palminteri , conspicuously uncredited--can you blame him ? ) , who takes an interest in an idea of theirs . \\n',\n",
       " \"meanwhile , the bros' overbearing father ( dan hedaya ) wants them to stop clubbing . \\n\",\n",
       " 'when doug refuses and the dimwitted steve obeys his father , a rift is created between the two . \\n',\n",
       " 'the narrative messiness of _roxbury_ would have been forgivable if all that went on were the slightest bit funny , but virtually none of it is . \\n',\n",
       " 'the assembled press audience mostly sat stonily silent throughout the entire film , with the one big exception being a big laugh near the end . \\n',\n",
       " 'alas , the joke--a rather lazy takeoff on _jerry_maguire_--will only strike a chord with people who have seen that film . \\n',\n",
       " \"granted , a lot of people _have_ seen _jerry_maguire_ , but the fact that the film's best joke is completely dependent on one's familiarity with another film says a lot about _roxbury_'s lack of inspiration . \\n\",\n",
       " 'that lack of inspiration can be traced back to the insipid characters themselves . \\n',\n",
       " 'like too many of the skits on the current incarnation of _saturday_night_live_ , \" the roxbury guys \" is a one-joke sketch that never once suggests that the characters have enough comic life in them to survive outside of the sketch context . \\n',\n",
       " 'after watching one of the \" roxbury \" skits on snl , this is what you come away with from the characters : they bob their heads to \" what is love ? \" , \\n',\n",
       " \"bump unsuspecting women , and . . . that's all . \\n\",\n",
       " \"after watching _a_night_at_the_roxbury_ , you'll be left with exactly the same . \\n\"]"
      ]
     },
     "execution_count": 12,
     "metadata": {},
     "output_type": "execute_result"
    }
   ],
   "source": [
    "output"
   ]
  },
  {
   "cell_type": "code",
   "execution_count": 13,
   "metadata": {
    "collapsed": true
   },
   "outputs": [],
   "source": [
    "whole_doc = ', '.join(map(str, output))"
   ]
  },
  {
   "cell_type": "code",
   "execution_count": 14,
   "metadata": {},
   "outputs": [
    {
     "name": "stdout",
     "output_type": "stream",
     "text": [
      "{\n",
      "    \"ResponseMetadata\": {\n",
      "        \"HTTPHeaders\": {\n",
      "            \"connection\": \"keep-alive\",\n",
      "            \"content-length\": \"160\",\n",
      "            \"content-type\": \"application/x-amz-json-1.1\",\n",
      "            \"date\": \"Sun, 11 Mar 2018 08:46:32 GMT\",\n",
      "            \"x-amzn-requestid\": \"b25ceb32-2508-11e8-bfcd-ab9be8e1f542\"\n",
      "        },\n",
      "        \"HTTPStatusCode\": 200,\n",
      "        \"RequestId\": \"b25ceb32-2508-11e8-bfcd-ab9be8e1f542\",\n",
      "        \"RetryAttempts\": 0\n",
      "    },\n",
      "    \"Sentiment\": \"NEUTRAL\",\n",
      "    \"SentimentScore\": {\n",
      "        \"Mixed\": 0.08729904890060425,\n",
      "        \"Negative\": 0.14021947979927063,\n",
      "        \"Neutral\": 0.6956433057785034,\n",
      "        \"Positive\": 0.0768381729722023\n",
      "    }\n",
      "}\n"
     ]
    }
   ],
   "source": [
    "print(json.dumps(comprehend.detect_sentiment(Text=whole_doc, LanguageCode='en'), sort_keys=True, indent=4))"
   ]
  }
 ],
 "metadata": {
  "kernelspec": {
   "display_name": "Python 3",
   "language": "python",
   "name": "python3"
  },
  "language_info": {
   "codemirror_mode": {
    "name": "ipython",
    "version": 3
   },
   "file_extension": ".py",
   "mimetype": "text/x-python",
   "name": "python",
   "nbconvert_exporter": "python",
   "pygments_lexer": "ipython3",
   "version": "3.6.3"
  }
 },
 "nbformat": 4,
 "nbformat_minor": 2
}
