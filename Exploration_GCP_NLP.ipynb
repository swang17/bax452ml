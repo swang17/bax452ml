{
 "cells": [
  {
   "cell_type": "markdown",
   "metadata": {},
   "source": [
    "# Google Cloud Platform Sentiment Analysis\n",
    "\n",
    "This notebooks follows the instruction of the following notebook:<br>\n",
    "https://github.com/noahgift/recommendations/blob/master/notebooks/NLP_GCP.ipynb"
   ]
  },
  {
   "cell_type": "code",
   "execution_count": 3,
   "metadata": {},
   "outputs": [],
   "source": [
    "# Imports the Google Cloud client library\n",
    "from google.cloud import language\n",
    "from google.cloud.language import enums\n",
    "from google.cloud.language import types"
   ]
  },
  {
   "cell_type": "code",
   "execution_count": 6,
   "metadata": {
    "collapsed": true
   },
   "outputs": [],
   "source": [
    "text = 'Kevin Durant from the Golden State Warriors team is a great player in human history'"
   ]
  },
  {
   "cell_type": "code",
   "execution_count": 7,
   "metadata": {
    "collapsed": true
   },
   "outputs": [],
   "source": [
    "client = language.LanguageServiceClient()\n",
    "document = types.Document(\n",
    "        content=text,\n",
    "        type=enums.Document.Type.PLAIN_TEXT)\n",
    "entities = client.analyze_entities(document).entities"
   ]
  },
  {
   "cell_type": "code",
   "execution_count": 8,
   "metadata": {},
   "outputs": [
    {
     "data": {
      "text/plain": [
       "[name: \"Kevin Durant\"\n",
       "type: PERSON\n",
       "metadata {\n",
       "  key: \"mid\"\n",
       "  value: \"/m/0gxrc1\"\n",
       "}\n",
       "metadata {\n",
       "  key: \"wikipedia_url\"\n",
       "  value: \"https://en.wikipedia.org/wiki/Kevin_Wayne_Durant\"\n",
       "}\n",
       "salience: 0.6431191563606262\n",
       "mentions {\n",
       "  text {\n",
       "    content: \"Kevin Durant\"\n",
       "    begin_offset: -1\n",
       "  }\n",
       "  type: PROPER\n",
       "}\n",
       "mentions {\n",
       "  text {\n",
       "    content: \"player\"\n",
       "    begin_offset: -1\n",
       "  }\n",
       "  type: COMMON\n",
       "}\n",
       ", name: \"Golden State Warriors\"\n",
       "type: ORGANIZATION\n",
       "metadata {\n",
       "  key: \"mid\"\n",
       "  value: \"/m/0jmj7\"\n",
       "}\n",
       "metadata {\n",
       "  key: \"wikipedia_url\"\n",
       "  value: \"https://en.wikipedia.org/wiki/Golden_State_Warriors\"\n",
       "}\n",
       "salience: 0.2869375944137573\n",
       "mentions {\n",
       "  text {\n",
       "    content: \"team\"\n",
       "    begin_offset: -1\n",
       "  }\n",
       "  type: COMMON\n",
       "}\n",
       "mentions {\n",
       "  text {\n",
       "    content: \"Golden State Warriors\"\n",
       "    begin_offset: -1\n",
       "  }\n",
       "  type: PROPER\n",
       "}\n",
       ", name: \"human history\"\n",
       "type: OTHER\n",
       "salience: 0.06994327902793884\n",
       "mentions {\n",
       "  text {\n",
       "    content: \"human history\"\n",
       "    begin_offset: -1\n",
       "  }\n",
       "  type: COMMON\n",
       "}\n",
       "]"
      ]
     },
     "execution_count": 8,
     "metadata": {},
     "output_type": "execute_result"
    }
   ],
   "source": [
    "entities"
   ]
  },
  {
   "cell_type": "code",
   "execution_count": 10,
   "metadata": {},
   "outputs": [
    {
     "name": "stdout",
     "output_type": "stream",
     "text": [
      "Score: 0.699999988079071\n",
      "Magnitude: 0.699999988079071\n"
     ]
    }
   ],
   "source": [
    "sentiment = client.analyze_sentiment(document).document_sentiment\n",
    "print('Score: {}'.format(sentiment.score))\n",
    "print('Magnitude: {}'.format(sentiment.magnitude))"
   ]
  }
 ],
 "metadata": {
  "kernelspec": {
   "display_name": "Python 3",
   "language": "python",
   "name": "python3"
  },
  "language_info": {
   "codemirror_mode": {
    "name": "ipython",
    "version": 3
   },
   "file_extension": ".py",
   "mimetype": "text/x-python",
   "name": "python",
   "nbconvert_exporter": "python",
   "pygments_lexer": "ipython3",
   "version": "3.6.3"
  }
 },
 "nbformat": 4,
 "nbformat_minor": 2
}
